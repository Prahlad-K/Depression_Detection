{
 "cells": [
  {
   "cell_type": "code",
   "execution_count": 4,
   "metadata": {},
   "outputs": [
    {
     "name": "stderr",
     "output_type": "stream",
     "text": [
      "Using TensorFlow backend.\n"
     ]
    }
   ],
   "source": [
    "%matplotlib inline\n",
    "import matplotlib.pyplot as plt\n",
    "import os\n",
    "import re\n",
    "import numpy as np\n",
    "import pandas as pd\n",
    "#from chart_studio import plotly as py\n",
    "#import plotly.figure_factory as ff\n",
    "from scipy import stats\n",
    "\n",
    "import gensim\n",
    "import json\n",
    "\n",
    "\n",
    "import nltk\n",
    "from nltk.stem import WordNetLemmatizer\n",
    "from nltk.corpus import stopwords\n",
    "from nltk.tokenize import word_tokenize\n",
    "from nltk.stem import PorterStemmer\n",
    "\n",
    "import itertools\n",
    "\n",
    "import keras\n",
    "\n",
    "from keras.models import Sequential, Model\n",
    "from keras.layers import Dense, Dropout, Embedding, LSTM, Input, Activation, GlobalAveragePooling1D, Flatten, Concatenate, Conv1D, MaxPooling1D\n",
    "from keras.layers.normalization import BatchNormalization\n",
    "from keras.layers.merge import concatenate\n",
    "from keras.optimizers import SGD, RMSprop, Adagrad, Adam\n",
    "from keras.preprocessing.text import one_hot, text_to_word_sequence, Tokenizer\n",
    "from keras.preprocessing.sequence import pad_sequences\n",
    "\n",
    "from keras.callbacks import EarlyStopping, ModelCheckpoint\n",
    "from keras.utils.vis_utils import plot_model\n",
    "\n",
    "import fnmatch\n",
    "\n",
    "import warnings\n",
    "\n",
    "import string\n",
    "from pathlib import Path\n",
    "from random import shuffle\n",
    "from ast import literal_eval\n",
    "\n",
    "warnings.filterwarnings('ignore')\n",
    "\n"
   ]
  },
  {
   "cell_type": "code",
   "execution_count": 5,
   "metadata": {},
   "outputs": [],
   "source": [
    "#initializing the wordnet lemmatizer\n",
    "wordnet_lemmatizer = WordNetLemmatizer()"
   ]
  },
  {
   "cell_type": "code",
   "execution_count": 6,
   "metadata": {},
   "outputs": [],
   "source": [
    "# setting a window size of 10. There are 5 classes/levels of depression we wish to classify.\n",
    "WINDOWS_SIZE = 10\n",
    "labels=['none','mild','moderate','moderately severe', 'severe']\n",
    "num_classes = len(labels)"
   ]
  },
  {
   "cell_type": "code",
   "execution_count": 7,
   "metadata": {},
   "outputs": [],
   "source": [
    "# IMPORTANT - make plots more detailed\n",
    "\n",
    "# plots training and validation accuracy v/s epochs\n",
    "def plot_acc(history, title=\"Model Accuracy\"):\n",
    "    plt.plot(history.history['accuracy'])\n",
    "    plt.plot(history.history['val_accuracy'])\n",
    "    plt.title(title)\n",
    "    plt.ylabel('Accuracy')\n",
    "    plt.xlabel('Epoch')\n",
    "    plt.legend(['Train', 'Val'], loc='upper left')\n",
    "    plt.show()\n",
    "\n",
    "# plots training and validation loss v/s epochs\n",
    "def plot_loss(history, title=\"Model Loss\"):\n",
    "    plt.plot(history.history['loss'])\n",
    "    plt.plot(history.history['val_loss'])\n",
    "    plt.title(title)\n",
    "    plt.ylabel('Loss')\n",
    "    plt.xlabel('Epoch')\n",
    "    plt.legend(['Train', 'Val'], loc='upper right')\n",
    "    plt.show()\n",
    "\n",
    "# compares the losses between the two models\n",
    "def plot_compare_losses(history1, history2, name1=\"Red 1\", name2=\"Red 2\", title=\"Graph title\"):\n",
    "    plt.plot(history1.history['loss'], color=\"green\")\n",
    "    plt.plot(history1.history['val_loss'], 'r--', color=\"green\")\n",
    "    plt.plot(history2.history['loss'], color=\"blue\")\n",
    "    plt.plot(history2.history['val_loss'], 'r--', color=\"blue\")\n",
    "    plt.title(title)\n",
    "    plt.ylabel('Loss')\n",
    "    plt.xlabel('Epoch')\n",
    "    plt.legend(['Train ' + name1, 'Val ' + name1, \n",
    "                'Train ' + name2, 'Val ' + name2],\n",
    "               loc='upper right')\n",
    "    plt.show()\n",
    "\n",
    "# compares the accuracies betweeen the two models\n",
    "def plot_compare_accs(history1, history2, name1=\"Red 1\",\n",
    "                      name2=\"Red 2\", title=\"Graph title\"):\n",
    "    plt.plot(history1.history['acc'], color=\"green\")\n",
    "    plt.plot(history1.history['val_acc'], 'r--', color=\"green\")\n",
    "    plt.plot(history2.history['acc'], color=\"blue\")\n",
    "    plt.plot(history2.history['val_acc'], 'r--', color=\"blue\")\n",
    "    plt.title(title)\n",
    "    plt.ylabel('Accuracy')\n",
    "    plt.xlabel('Epoch')\n",
    "    plt.legend(['Train ' + name1, 'Val ' + name1, \n",
    "                'Train ' + name2, 'Val ' + name2], \n",
    "               loc='lower right')\n",
    "    plt.show()\n",
    "\n",
    "# can compare across multiple metrics given the appropriate parameters\n",
    "def plot_compare_multiple_metrics(history_array, names, colors, title=\"Graph title\", metric='acc'):  \n",
    "    legend = []\n",
    "    for i in range(0, len(history_array)):\n",
    "        plt.plot(history_array[i].history[metric], color=colors[i])\n",
    "        plt.plot(history_array[i].history['val_' + metric], 'r--', color=colors[i])\n",
    "        legend.append('Train ' + names[i])\n",
    "        legend.append('Val ' + names[i])\n",
    "    \n",
    "    plt.title(title)\n",
    "    plt.ylabel('Accuracy')\n",
    "    plt.xlabel('Epoch')   \n",
    "    plt.axis\n",
    "    plt.legend(legend, \n",
    "               loc='lower right')\n",
    "    plt.show()"
   ]
  },
  {
   "cell_type": "code",
   "execution_count": 8,
   "metadata": {},
   "outputs": [],
   "source": [
    "# converts all the transcripts files to a dataframe that consists of questions and answers of all person Ids\n",
    "def transcripts_to_dataframe(directory):\n",
    "    rows_list = []\n",
    "        \n",
    "    filenames = os.listdir(directory)\n",
    "    \n",
    "    if \".DS_Store\" in filenames:\n",
    "        filenames.remove(\".DS_Store\")\n",
    "        \n",
    "    for filename in filenames:\n",
    "        \n",
    "        transcript_path = os.path.join(directory, filename)\n",
    "        transcript = pd.read_csv(transcript_path, sep='\\t')\n",
    "        m = re.search(\"(\\d{3})_TRANSCRIPT.csv\", filename)\n",
    "        if m:\n",
    "            print(filename)\n",
    "            person_id = m.group(1)\n",
    "            p = {}\n",
    "            question = \"\"\n",
    "            answer = \"\"\n",
    "            lines = len(transcript)\n",
    "            for i in range(0, lines):\n",
    "                row = transcript.iloc[i]\n",
    "                if (row[\"speaker\"] == \"Ellie\") or (i == lines - 1):\n",
    "                    p[\"personId\"] = person_id\n",
    "                    if \"(\" in str(question):\n",
    "                        question = question[question.index(\"(\") + 1:question.index(\")\")]\n",
    "                    p[\"question\"] = question\n",
    "                    p[\"answer\"] = answer\n",
    "                    if question != \"\":\n",
    "                        rows_list.append(p)\n",
    "                    p = {}\n",
    "                    answer = \"\"\n",
    "                    question = row[\"value\"]\n",
    "                else:\n",
    "                    answer = str(answer) + \" \" + str(row[\"value\"])\n",
    "\n",
    "    all_participants = pd.DataFrame(rows_list, columns=['personId', 'question', 'answer'])\n",
    "    all_participants.to_csv(directory + 'all.csv', sep=',')\n",
    "    print(\"File was created\")\n",
    "    return all_participants"
   ]
  },
  {
   "cell_type": "code",
   "execution_count": 11,
   "metadata": {
    "scrolled": true
   },
   "outputs": [],
   "source": [
    "# read the dataframe we had saved earlier, if we had done so\n",
    "data_path = 'C:/DepData/transcripts/'\n",
    "#transcripts_to_dataframe(data_path) \n",
    "all_participants = pd.read_csv(data_path + 'all.csv', sep=',')"
   ]
  },
  {
   "cell_type": "code",
   "execution_count": 15,
   "metadata": {},
   "outputs": [
    {
     "data": {
      "text/html": [
       "<div>\n",
       "<style scoped>\n",
       "    .dataframe tbody tr th:only-of-type {\n",
       "        vertical-align: middle;\n",
       "    }\n",
       "\n",
       "    .dataframe tbody tr th {\n",
       "        vertical-align: top;\n",
       "    }\n",
       "\n",
       "    .dataframe thead th {\n",
       "        text-align: right;\n",
       "    }\n",
       "</style>\n",
       "<table border=\"1\" class=\"dataframe\">\n",
       "  <thead>\n",
       "    <tr style=\"text-align: right;\">\n",
       "      <th></th>\n",
       "      <th>index</th>\n",
       "      <th>personId</th>\n",
       "      <th>question</th>\n",
       "      <th>answer</th>\n",
       "    </tr>\n",
       "  </thead>\n",
       "  <tbody>\n",
       "    <tr>\n",
       "      <th>0</th>\n",
       "      <td>0</td>\n",
       "      <td>300.0</td>\n",
       "      <td>hi i'm ellie thanks for coming in today</td>\n",
       "      <td>nan</td>\n",
       "    </tr>\n",
       "    <tr>\n",
       "      <th>1</th>\n",
       "      <td>1</td>\n",
       "      <td>300.0</td>\n",
       "      <td>i was created to talk to people in a safe and ...</td>\n",
       "      <td>nan</td>\n",
       "    </tr>\n",
       "    <tr>\n",
       "      <th>2</th>\n",
       "      <td>2</td>\n",
       "      <td>300.0</td>\n",
       "      <td>think of me as a friend i don't judge i can't ...</td>\n",
       "      <td>nan</td>\n",
       "    </tr>\n",
       "    <tr>\n",
       "      <th>3</th>\n",
       "      <td>3</td>\n",
       "      <td>300.0</td>\n",
       "      <td>i'm here to learn about people and would love ...</td>\n",
       "      <td>nan</td>\n",
       "    </tr>\n",
       "    <tr>\n",
       "      <th>4</th>\n",
       "      <td>4</td>\n",
       "      <td>300.0</td>\n",
       "      <td>i'll ask a few questions to get us started and...</td>\n",
       "      <td>nan</td>\n",
       "    </tr>\n",
       "  </tbody>\n",
       "</table>\n",
       "</div>"
      ],
      "text/plain": [
       "   index  personId                                           question answer\n",
       "0      0     300.0            hi i'm ellie thanks for coming in today    nan\n",
       "1      1     300.0  i was created to talk to people in a safe and ...    nan\n",
       "2      2     300.0  think of me as a friend i don't judge i can't ...    nan\n",
       "3      3     300.0  i'm here to learn about people and would love ...    nan\n",
       "4      4     300.0  i'll ask a few questions to get us started and...    nan"
      ]
     },
     "execution_count": 15,
     "metadata": {},
     "output_type": "execute_result"
    }
   ],
   "source": [
    "all_participants.columns =  ['index','personId', 'question', 'answer']\n",
    "all_participants = all_participants.astype({\"index\": int, \"personId\": float, \"question\": str, \"answer\": str })\n",
    "all_participants.head()"
   ]
  },
  {
   "cell_type": "code",
   "execution_count": 13,
   "metadata": {},
   "outputs": [],
   "source": [
    "def text_to_wordlist(text, remove_stopwords=True, stem_words=False):    \n",
    "    # Clean the text, with the option to remove stopwords and to stem words.\n",
    "    \n",
    "    # Convert words to lower case and split them\n",
    "    text = text.lower().split()\n",
    "\n",
    "    # Optionally, remove stop words\n",
    "    if remove_stopwords:\n",
    "        stops = set(stopwords.words(\"english\"))\n",
    "        text = [wordnet_lemmatizer.lemmatize(w) for w in text if not w in stops ]\n",
    "        text = [w for w in text if w != \"nan\" ]\n",
    "    else:\n",
    "        text = [wordnet_lemmatizer.lemmatize(w) for w in text]\n",
    "        text = [w for w in text if w != \"nan\" ]\n",
    "    \n",
    "    text = \" \".join(text)\n",
    "\n",
    "    # Clean the text\n",
    "    text = re.sub(r\"[^A-Za-z0-9^,!.\\/'+-=]\", \" \", text)\n",
    "    text = re.sub(r\"what's\", \"what is \", text)\n",
    "    text = re.sub(r\"\\'s\", \" \", text)\n",
    "    text = re.sub(r\"\\'ve\", \" have \", text)\n",
    "    text = re.sub(r\"can't\", \"cannot \", text)\n",
    "    text = re.sub(r\"n't\", \" not \", text)\n",
    "    text = re.sub(r\"i'm\", \"i am \", text)\n",
    "    text = re.sub(r\"\\'re\", \" are \", text)\n",
    "    text = re.sub(r\"\\'d\", \" would \", text)\n",
    "    text = re.sub(r\"\\'ll\", \" will \", text)\n",
    "    text = re.sub(r\",\", \" \", text)\n",
    "    text = re.sub(r\"\\.\", \" \", text)\n",
    "    text = re.sub(r\"!\", \" ! \", text)\n",
    "    text = re.sub(r\"\\/\", \" \", text)\n",
    "    text = re.sub(r\"\\^\", \" ^ \", text)\n",
    "    text = re.sub(r\"\\+\", \" + \", text)\n",
    "    text = re.sub(r\"\\-\", \" - \", text)\n",
    "    text = re.sub(r\"\\=\", \" = \", text)\n",
    "    \n",
    "    text = re.sub(r\"\\<\", \" \", text)\n",
    "    text = re.sub(r\"\\>\", \" \", text)\n",
    "    \n",
    "    text = re.sub(r\"'\", \" \", text)\n",
    "    text = re.sub(r\"(\\d+)(k)\", r\"\\g<1>000\", text)\n",
    "    text = re.sub(r\":\", \" : \", text)\n",
    "    text = re.sub(r\" e g \", \" eg \", text)\n",
    "    text = re.sub(r\" b g \", \" bg \", text)\n",
    "    text = re.sub(r\" u s \", \" american \", text)\n",
    "    text = re.sub(r\"\\0s\", \"0\", text)\n",
    "    text = re.sub(r\" 9 11 \", \"911\", text)\n",
    "    text = re.sub(r\"e - mail\", \"email\", text)\n",
    "    text = re.sub(r\"j k\", \"jk\", text)\n",
    "    text = re.sub(r\"\\s{2,}\", \" \", text)\n",
    "    \n",
    "    # Optionally, shorten words to their stems\n",
    "    if stem_words:\n",
    "        text = text.split()\n",
    "        stemmer = SnowballStemmer('english')\n",
    "        stemmed_words = [stemmer.stem(word) for word in text]\n",
    "        text = \" \".join(stemmed_words)\n",
    "    \n",
    "    # Return a list of words\n",
    "    return(text)"
   ]
  },
  {
   "cell_type": "code",
   "execution_count": 14,
   "metadata": {},
   "outputs": [
    {
     "name": "stderr",
     "output_type": "stream",
     "text": [
      "[nltk_data] Downloading package wordnet to C:\\Users\\K N\n",
      "[nltk_data]     PRASAD\\AppData\\Roaming\\nltk_data...\n",
      "[nltk_data]   Unzipping corpora\\wordnet.zip.\n",
      "[nltk_data] Downloading package stopwords to C:\\Users\\K N\n",
      "[nltk_data]     PRASAD\\AppData\\Roaming\\nltk_data...\n",
      "[nltk_data]   Unzipping corpora\\stopwords.zip.\n"
     ]
    },
    {
     "data": {
      "text/plain": [
       "True"
      ]
     },
     "execution_count": 14,
     "metadata": {},
     "output_type": "execute_result"
    }
   ],
   "source": [
    "import nltk\n",
    "nltk.download('wordnet')\n",
    "nltk.download('stopwords')"
   ]
  },
  {
   "cell_type": "code",
   "execution_count": 16,
   "metadata": {},
   "outputs": [
    {
     "data": {
      "text/html": [
       "<div>\n",
       "<style scoped>\n",
       "    .dataframe tbody tr th:only-of-type {\n",
       "        vertical-align: middle;\n",
       "    }\n",
       "\n",
       "    .dataframe tbody tr th {\n",
       "        vertical-align: top;\n",
       "    }\n",
       "\n",
       "    .dataframe thead th {\n",
       "        text-align: right;\n",
       "    }\n",
       "</style>\n",
       "<table border=\"1\" class=\"dataframe\">\n",
       "  <thead>\n",
       "    <tr style=\"text-align: right;\">\n",
       "      <th></th>\n",
       "      <th>index</th>\n",
       "      <th>personId</th>\n",
       "      <th>question</th>\n",
       "      <th>answer</th>\n",
       "    </tr>\n",
       "  </thead>\n",
       "  <tbody>\n",
       "    <tr>\n",
       "      <th>14968</th>\n",
       "      <td>14968</td>\n",
       "      <td>492.0</td>\n",
       "      <td>mm</td>\n",
       "      <td>[]</td>\n",
       "    </tr>\n",
       "    <tr>\n",
       "      <th>14969</th>\n",
       "      <td>14969</td>\n",
       "      <td>492.0</td>\n",
       "      <td>what are you most proud of in your life</td>\n",
       "      <td>[um, proud, fact, uh, give]</td>\n",
       "    </tr>\n",
       "    <tr>\n",
       "      <th>14970</th>\n",
       "      <td>14970</td>\n",
       "      <td>492.0</td>\n",
       "      <td>okay i think i have asked everything i need to</td>\n",
       "      <td>[]</td>\n",
       "    </tr>\n",
       "    <tr>\n",
       "      <th>14971</th>\n",
       "      <td>14971</td>\n",
       "      <td>492.0</td>\n",
       "      <td>thanks for sharing your thoughts with me</td>\n",
       "      <td>[]</td>\n",
       "    </tr>\n",
       "    <tr>\n",
       "      <th>14972</th>\n",
       "      <td>14972</td>\n",
       "      <td>492.0</td>\n",
       "      <td>goodbye</td>\n",
       "      <td>[bye, thank]</td>\n",
       "    </tr>\n",
       "  </tbody>\n",
       "</table>\n",
       "</div>"
      ],
      "text/plain": [
       "       index  personId                                        question  \\\n",
       "14968  14968     492.0                                              mm   \n",
       "14969  14969     492.0         what are you most proud of in your life   \n",
       "14970  14970     492.0  okay i think i have asked everything i need to   \n",
       "14971  14971     492.0        thanks for sharing your thoughts with me   \n",
       "14972  14972     492.0                                         goodbye   \n",
       "\n",
       "                            answer  \n",
       "14968                           []  \n",
       "14969  [um, proud, fact, uh, give]  \n",
       "14970                           []  \n",
       "14971                           []  \n",
       "14972                 [bye, thank]  "
      ]
     },
     "execution_count": 16,
     "metadata": {},
     "output_type": "execute_result"
    }
   ],
   "source": [
    "# crate a copy of the original dataframe, that stores answers as a list, after preprocessing - removing stopwords\n",
    "all_participants_mix = all_participants.copy()\n",
    "all_participants_mix['answer'] = all_participants_mix.apply(lambda row: text_to_wordlist(row.answer).split(), axis=1)\n",
    "all_participants_mix.tail()"
   ]
  },
  {
   "cell_type": "code",
   "execution_count": 17,
   "metadata": {},
   "outputs": [
    {
     "data": {
      "text/html": [
       "<div>\n",
       "<style scoped>\n",
       "    .dataframe tbody tr th:only-of-type {\n",
       "        vertical-align: middle;\n",
       "    }\n",
       "\n",
       "    .dataframe tbody tr th {\n",
       "        vertical-align: top;\n",
       "    }\n",
       "\n",
       "    .dataframe thead th {\n",
       "        text-align: right;\n",
       "    }\n",
       "</style>\n",
       "<table border=\"1\" class=\"dataframe\">\n",
       "  <thead>\n",
       "    <tr style=\"text-align: right;\">\n",
       "      <th></th>\n",
       "      <th>index</th>\n",
       "      <th>personId</th>\n",
       "      <th>question</th>\n",
       "      <th>answer</th>\n",
       "    </tr>\n",
       "  </thead>\n",
       "  <tbody>\n",
       "    <tr>\n",
       "      <th>14968</th>\n",
       "      <td>14968</td>\n",
       "      <td>492.0</td>\n",
       "      <td>mm</td>\n",
       "      <td>[]</td>\n",
       "    </tr>\n",
       "    <tr>\n",
       "      <th>14969</th>\n",
       "      <td>14969</td>\n",
       "      <td>492.0</td>\n",
       "      <td>what are you most proud of in your life</td>\n",
       "      <td>[um, i, am, very, proud, of, the, fact, that, ...</td>\n",
       "    </tr>\n",
       "    <tr>\n",
       "      <th>14970</th>\n",
       "      <td>14970</td>\n",
       "      <td>492.0</td>\n",
       "      <td>okay i think i have asked everything i need to</td>\n",
       "      <td>[]</td>\n",
       "    </tr>\n",
       "    <tr>\n",
       "      <th>14971</th>\n",
       "      <td>14971</td>\n",
       "      <td>492.0</td>\n",
       "      <td>thanks for sharing your thoughts with me</td>\n",
       "      <td>[]</td>\n",
       "    </tr>\n",
       "    <tr>\n",
       "      <th>14972</th>\n",
       "      <td>14972</td>\n",
       "      <td>492.0</td>\n",
       "      <td>goodbye</td>\n",
       "      <td>[bye, and, thank, you]</td>\n",
       "    </tr>\n",
       "  </tbody>\n",
       "</table>\n",
       "</div>"
      ],
      "text/plain": [
       "       index  personId                                        question  \\\n",
       "14968  14968     492.0                                              mm   \n",
       "14969  14969     492.0         what are you most proud of in your life   \n",
       "14970  14970     492.0  okay i think i have asked everything i need to   \n",
       "14971  14971     492.0        thanks for sharing your thoughts with me   \n",
       "14972  14972     492.0                                         goodbye   \n",
       "\n",
       "                                                  answer  \n",
       "14968                                                 []  \n",
       "14969  [um, i, am, very, proud, of, the, fact, that, ...  \n",
       "14970                                                 []  \n",
       "14971                                                 []  \n",
       "14972                             [bye, and, thank, you]  "
      ]
     },
     "execution_count": 17,
     "metadata": {},
     "output_type": "execute_result"
    }
   ],
   "source": [
    "# creates a copy of the original dataframe, with answers processed as a list of words - but removal of stopwords is not done\n",
    "all_participants_mix_stopwords = all_participants.copy()\n",
    "all_participants_mix_stopwords['answer'] = all_participants_mix_stopwords.apply(lambda row: text_to_wordlist(row.answer, remove_stopwords=False).split(), axis=1)\n",
    "all_participants_mix_stopwords.tail()"
   ]
  },
  {
   "cell_type": "code",
   "execution_count": 18,
   "metadata": {},
   "outputs": [
    {
     "name": "stdout",
     "output_type": "stream",
     "text": [
      "7373\n"
     ]
    }
   ],
   "source": [
    "# create a vocabulary of all words used in the answers - after removing stopwords\n",
    "words = [w for w in all_participants_mix['answer'].tolist()]\n",
    "words = set(itertools.chain(*words))\n",
    "vocab_size = len(words)\n",
    "print(vocab_size)"
   ]
  },
  {
   "cell_type": "code",
   "execution_count": 19,
   "metadata": {},
   "outputs": [
    {
     "name": "stdout",
     "output_type": "stream",
     "text": [
      "7449\n"
     ]
    }
   ],
   "source": [
    "# create a vocabulary of all words used in the answers - without removing stopwords\n",
    "words_stop = [w for w in all_participants_mix_stopwords['answer'].tolist()]\n",
    "words_stop = set(itertools.chain(*words_stop))\n",
    "vocab_size_stop = len(words_stop)\n",
    "print(vocab_size_stop)"
   ]
  },
  {
   "cell_type": "code",
   "execution_count": 20,
   "metadata": {},
   "outputs": [
    {
     "data": {
      "text/html": [
       "<div>\n",
       "<style scoped>\n",
       "    .dataframe tbody tr th:only-of-type {\n",
       "        vertical-align: middle;\n",
       "    }\n",
       "\n",
       "    .dataframe tbody tr th {\n",
       "        vertical-align: top;\n",
       "    }\n",
       "\n",
       "    .dataframe thead th {\n",
       "        text-align: right;\n",
       "    }\n",
       "</style>\n",
       "<table border=\"1\" class=\"dataframe\">\n",
       "  <thead>\n",
       "    <tr style=\"text-align: right;\">\n",
       "      <th></th>\n",
       "      <th>index</th>\n",
       "      <th>personId</th>\n",
       "      <th>question</th>\n",
       "      <th>answer</th>\n",
       "      <th>t_answer</th>\n",
       "    </tr>\n",
       "  </thead>\n",
       "  <tbody>\n",
       "    <tr>\n",
       "      <th>14968</th>\n",
       "      <td>14968</td>\n",
       "      <td>492.0</td>\n",
       "      <td>mm</td>\n",
       "      <td>[]</td>\n",
       "      <td>[]</td>\n",
       "    </tr>\n",
       "    <tr>\n",
       "      <th>14969</th>\n",
       "      <td>14969</td>\n",
       "      <td>492.0</td>\n",
       "      <td>what are you most proud of in your life</td>\n",
       "      <td>[um, proud, fact, uh, give]</td>\n",
       "      <td>[1, 147, 265, 2, 165]</td>\n",
       "    </tr>\n",
       "    <tr>\n",
       "      <th>14970</th>\n",
       "      <td>14970</td>\n",
       "      <td>492.0</td>\n",
       "      <td>okay i think i have asked everything i need to</td>\n",
       "      <td>[]</td>\n",
       "      <td>[]</td>\n",
       "    </tr>\n",
       "    <tr>\n",
       "      <th>14971</th>\n",
       "      <td>14971</td>\n",
       "      <td>492.0</td>\n",
       "      <td>thanks for sharing your thoughts with me</td>\n",
       "      <td>[]</td>\n",
       "      <td>[]</td>\n",
       "    </tr>\n",
       "    <tr>\n",
       "      <th>14972</th>\n",
       "      <td>14972</td>\n",
       "      <td>492.0</td>\n",
       "      <td>goodbye</td>\n",
       "      <td>[bye, thank]</td>\n",
       "      <td>[858, 173]</td>\n",
       "    </tr>\n",
       "  </tbody>\n",
       "</table>\n",
       "</div>"
      ],
      "text/plain": [
       "       index  personId                                        question  \\\n",
       "14968  14968     492.0                                              mm   \n",
       "14969  14969     492.0         what are you most proud of in your life   \n",
       "14970  14970     492.0  okay i think i have asked everything i need to   \n",
       "14971  14971     492.0        thanks for sharing your thoughts with me   \n",
       "14972  14972     492.0                                         goodbye   \n",
       "\n",
       "                            answer               t_answer  \n",
       "14968                           []                     []  \n",
       "14969  [um, proud, fact, uh, give]  [1, 147, 265, 2, 165]  \n",
       "14970                           []                     []  \n",
       "14971                           []                     []  \n",
       "14972                 [bye, thank]             [858, 173]  "
      ]
     },
     "execution_count": 20,
     "metadata": {},
     "output_type": "execute_result"
    }
   ],
   "source": [
    "# associate each word with an index in the vocabulary\n",
    "windows_size = WINDOWS_SIZE\n",
    "tokenizer = Tokenizer(num_words=vocab_size)\n",
    "tokenizer.fit_on_texts(all_participants_mix['answer'])\n",
    "tokenizer.fit_on_sequences(all_participants_mix['answer'])\n",
    "\n",
    "all_participants_mix['t_answer'] = tokenizer.texts_to_sequences(all_participants_mix['answer'])\n",
    "all_participants_mix.tail()"
   ]
  },
  {
   "cell_type": "code",
   "execution_count": 21,
   "metadata": {},
   "outputs": [
    {
     "data": {
      "text/html": [
       "<div>\n",
       "<style scoped>\n",
       "    .dataframe tbody tr th:only-of-type {\n",
       "        vertical-align: middle;\n",
       "    }\n",
       "\n",
       "    .dataframe tbody tr th {\n",
       "        vertical-align: top;\n",
       "    }\n",
       "\n",
       "    .dataframe thead th {\n",
       "        text-align: right;\n",
       "    }\n",
       "</style>\n",
       "<table border=\"1\" class=\"dataframe\">\n",
       "  <thead>\n",
       "    <tr style=\"text-align: right;\">\n",
       "      <th></th>\n",
       "      <th>index</th>\n",
       "      <th>personId</th>\n",
       "      <th>question</th>\n",
       "      <th>answer</th>\n",
       "      <th>t_answer</th>\n",
       "    </tr>\n",
       "  </thead>\n",
       "  <tbody>\n",
       "    <tr>\n",
       "      <th>14968</th>\n",
       "      <td>14968</td>\n",
       "      <td>492.0</td>\n",
       "      <td>mm</td>\n",
       "      <td>[]</td>\n",
       "      <td>[]</td>\n",
       "    </tr>\n",
       "    <tr>\n",
       "      <th>14969</th>\n",
       "      <td>14969</td>\n",
       "      <td>492.0</td>\n",
       "      <td>what are you most proud of in your life</td>\n",
       "      <td>[um, i, am, very, proud, of, the, fact, that, ...</td>\n",
       "      <td>[5, 1, 18, 49, 224, 13, 7, 353, 8, 9, 1, 19, 1...</td>\n",
       "    </tr>\n",
       "    <tr>\n",
       "      <th>14970</th>\n",
       "      <td>14970</td>\n",
       "      <td>492.0</td>\n",
       "      <td>okay i think i have asked everything i need to</td>\n",
       "      <td>[]</td>\n",
       "      <td>[]</td>\n",
       "    </tr>\n",
       "    <tr>\n",
       "      <th>14971</th>\n",
       "      <td>14971</td>\n",
       "      <td>492.0</td>\n",
       "      <td>thanks for sharing your thoughts with me</td>\n",
       "      <td>[]</td>\n",
       "      <td>[]</td>\n",
       "    </tr>\n",
       "    <tr>\n",
       "      <th>14972</th>\n",
       "      <td>14972</td>\n",
       "      <td>492.0</td>\n",
       "      <td>goodbye</td>\n",
       "      <td>[bye, and, thank, you]</td>\n",
       "      <td>[949, 2, 254, 11]</td>\n",
       "    </tr>\n",
       "  </tbody>\n",
       "</table>\n",
       "</div>"
      ],
      "text/plain": [
       "       index  personId                                        question  \\\n",
       "14968  14968     492.0                                              mm   \n",
       "14969  14969     492.0         what are you most proud of in your life   \n",
       "14970  14970     492.0  okay i think i have asked everything i need to   \n",
       "14971  14971     492.0        thanks for sharing your thoughts with me   \n",
       "14972  14972     492.0                                         goodbye   \n",
       "\n",
       "                                                  answer  \\\n",
       "14968                                                 []   \n",
       "14969  [um, i, am, very, proud, of, the, fact, that, ...   \n",
       "14970                                                 []   \n",
       "14971                                                 []   \n",
       "14972                             [bye, and, thank, you]   \n",
       "\n",
       "                                                t_answer  \n",
       "14968                                                 []  \n",
       "14969  [5, 1, 18, 49, 224, 13, 7, 353, 8, 9, 1, 19, 1...  \n",
       "14970                                                 []  \n",
       "14971                                                 []  \n",
       "14972                                  [949, 2, 254, 11]  "
      ]
     },
     "execution_count": 21,
     "metadata": {},
     "output_type": "execute_result"
    }
   ],
   "source": [
    "# do the same for the answers with stopwords\n",
    "windows_size = WINDOWS_SIZE\n",
    "tokenizer = Tokenizer(num_words=vocab_size_stop)\n",
    "tokenizer.fit_on_texts(all_participants_mix_stopwords['answer'])\n",
    "tokenizer.fit_on_sequences(all_participants_mix_stopwords['answer'])\n",
    "\n",
    "all_participants_mix_stopwords['t_answer'] = tokenizer.texts_to_sequences(all_participants_mix_stopwords['answer'])\n",
    "all_participants_mix_stopwords.tail()"
   ]
  },
  {
   "cell_type": "code",
   "execution_count": 23,
   "metadata": {
    "scrolled": true
   },
   "outputs": [
    {
     "name": "stdout",
     "output_type": "stream",
     "text": [
      "Word size:  7449\n",
      "28\n"
     ]
    }
   ],
   "source": [
    "# testing the word index built so\n",
    "word_index = tokenizer.word_index\n",
    "word_size = len(word_index)\n",
    "print(\"Word size: \", word_size)\n",
    "print(word_index['laughter'])"
   ]
  },
  {
   "cell_type": "code",
   "execution_count": 39,
   "metadata": {},
   "outputs": [
    {
     "name": "stdout",
     "output_type": "stream",
     "text": [
      "                                                        sum\n",
      "personId                                                   \n",
      "300.0     [good, atlanta, georgia, um, my, parent, are, ...\n",
      "301.0     [thank, you, mmm, k, i, am, doing, good, thank...\n",
      "302.0     [i, am, fine, how, about, yourself, i, am, fro...\n",
      "303.0     [okay, how, bout, yourself, here, in, californ...\n",
      "304.0     [i, am, doing, good, um, from, los, angeles, c...\n",
      "...                                                     ...\n",
      "488.0     [yes, fine, oh, san, fernando, valley, uh, wel...\n",
      "489.0     [yes, i, am, doing, well, thank, you, san, lui...\n",
      "490.0     [yeah, i, am, doing, already, how, are, you, d...\n",
      "491.0     [yes, huh, overwhelmed, i, have, a, funeral, t...\n",
      "492.0     [yes, doing, pretty, good, thank, you, marylan...\n",
      "\n",
      "[186 rows x 1 columns]\n"
     ]
    }
   ],
   "source": [
    "# create another dataframe - phrases_lp_stop that consists of three columns Id, answer and tokenized answer\n",
    "windows_size = WINDOWS_SIZE\n",
    "cont = 0\n",
    "word_index = tokenizer\n",
    "phrases_lp_stop = pd.DataFrame(columns=['personId','answer', 't_answer'])\n",
    "# the list below consists of all answers (which include stopwords) of one person grouped together\n",
    "answers = all_participants_mix_stopwords.groupby('personId').agg({'answer':['sum'], 't_answer':['sum']})\n",
    "print(answers['answer'])"
   ]
  },
  {
   "cell_type": "code",
   "execution_count": 45,
   "metadata": {
    "scrolled": true
   },
   "outputs": [
    {
     "name": "stdout",
     "output_type": "stream",
     "text": [
      "0\n",
      "366\n",
      "1910\n",
      "2537\n",
      "4564\n",
      "5586\n",
      "9031\n",
      "10645\n",
      "13317\n",
      "14253\n",
      "14978\n",
      "16167\n",
      "16840\n",
      "18094\n",
      "18864\n",
      "22270\n",
      "23681\n",
      "24333\n",
      "25004\n",
      "25734\n",
      "26438\n",
      "27229\n",
      "28181\n",
      "29783\n",
      "31179\n",
      "32089\n",
      "33961\n",
      "34490\n",
      "35308\n",
      "37387\n",
      "38393\n",
      "38893\n",
      "40421\n",
      "41348\n",
      "42739\n",
      "44279\n",
      "45715\n",
      "46737\n",
      "51500\n",
      "52373\n",
      "53416\n",
      "54025\n",
      "55336\n",
      "56086\n",
      "58111\n",
      "59615\n",
      "61954\n",
      "62412\n",
      "63425\n",
      "64967\n",
      "66450\n",
      "67651\n",
      "69384\n",
      "70677\n",
      "71189\n",
      "72243\n",
      "73920\n",
      "74343\n",
      "75023\n",
      "77376\n",
      "78019\n",
      "79352\n",
      "80184\n",
      "82410\n",
      "86641\n",
      "89041\n",
      "91691\n",
      "94841\n",
      "98498\n",
      "100818\n",
      "104009\n",
      "104853\n",
      "107126\n",
      "110843\n",
      "113307\n",
      "113865\n",
      "115659\n",
      "118143\n",
      "119495\n",
      "122094\n",
      "126155\n",
      "127879\n",
      "129032\n",
      "131212\n",
      "132345\n",
      "132527\n",
      "134731\n",
      "135297\n",
      "135775\n",
      "136363\n",
      "137814\n",
      "138437\n",
      "139156\n",
      "139911\n",
      "141173\n",
      "142312\n",
      "144098\n",
      "145299\n",
      "146517\n",
      "147752\n",
      "148927\n",
      "150409\n",
      "151498\n",
      "154051\n",
      "155105\n",
      "158365\n",
      "159245\n",
      "161725\n",
      "163222\n",
      "166294\n",
      "167179\n",
      "168929\n",
      "170431\n",
      "171685\n",
      "173201\n",
      "174465\n",
      "176141\n",
      "177836\n",
      "178954\n",
      "180049\n",
      "182566\n",
      "183609\n",
      "186170\n",
      "187978\n",
      "189206\n",
      "190309\n",
      "191330\n",
      "192564\n",
      "194061\n",
      "194949\n",
      "196252\n",
      "197200\n",
      "199869\n",
      "200911\n",
      "202344\n",
      "203590\n",
      "206969\n",
      "210093\n",
      "211990\n",
      "212964\n",
      "214603\n",
      "215140\n",
      "218037\n",
      "219080\n",
      "220873\n",
      "222305\n",
      "224942\n",
      "228109\n",
      "230186\n",
      "230789\n",
      "232313\n",
      "233009\n",
      "234107\n",
      "235798\n",
      "237199\n",
      "238468\n",
      "239491\n",
      "241575\n",
      "242517\n",
      "244582\n",
      "247365\n",
      "249856\n",
      "251134\n",
      "253077\n",
      "254804\n",
      "256281\n",
      "257797\n",
      "258720\n",
      "259065\n",
      "260863\n",
      "261605\n",
      "262265\n",
      "265148\n",
      "266503\n",
      "267189\n",
      "269271\n",
      "271219\n",
      "273588\n",
      "275009\n",
      "275735\n",
      "276521\n",
      "278376\n",
      "279838\n",
      "280361\n",
      "280972\n",
      "282241\n"
     ]
    }
   ],
   "source": [
    "# phrases_lp_stop is built - it holds a sliding window of 10 answers and tokens of those answers\n",
    "cont = 0\n",
    "for p in answers.iterrows():\n",
    "    words = p[1]['answer']['sum']\n",
    "    size = len(words)\n",
    "    word_tokens = p[1][\"t_answer\"]['sum']\n",
    "    print(cont)\n",
    "    for i in range(size):\n",
    "        sentence = words[i:min(i+windows_size,size)]  \n",
    "        tokens = word_tokens[i:min(i+windows_size,size)]  \n",
    "        phrases_lp_stop.loc[cont] = [p[0], sentence, tokens]\n",
    "        cont = cont + 1"
   ]
  },
  {
   "cell_type": "code",
   "execution_count": 46,
   "metadata": {},
   "outputs": [
    {
     "data": {
      "text/html": [
       "<div>\n",
       "<style scoped>\n",
       "    .dataframe tbody tr th:only-of-type {\n",
       "        vertical-align: middle;\n",
       "    }\n",
       "\n",
       "    .dataframe tbody tr th {\n",
       "        vertical-align: top;\n",
       "    }\n",
       "\n",
       "    .dataframe thead th {\n",
       "        text-align: right;\n",
       "    }\n",
       "</style>\n",
       "<table border=\"1\" class=\"dataframe\">\n",
       "  <thead>\n",
       "    <tr style=\"text-align: right;\">\n",
       "      <th></th>\n",
       "      <th>personId</th>\n",
       "      <th>answer</th>\n",
       "      <th>t_answer</th>\n",
       "    </tr>\n",
       "  </thead>\n",
       "  <tbody>\n",
       "    <tr>\n",
       "      <th>0</th>\n",
       "      <td>300.0</td>\n",
       "      <td>[good, atlanta, georgia, um, my, parent, are, ...</td>\n",
       "      <td>[42, 1727, 2089, 5, 12, 205, 37, 69, 113, 5]</td>\n",
       "    </tr>\n",
       "    <tr>\n",
       "      <th>1</th>\n",
       "      <td>300.0</td>\n",
       "      <td>[atlanta, georgia, um, my, parent, are, from, ...</td>\n",
       "      <td>[1727, 2089, 5, 12, 205, 37, 69, 113, 5, 1]</td>\n",
       "    </tr>\n",
       "    <tr>\n",
       "      <th>2</th>\n",
       "      <td>300.0</td>\n",
       "      <td>[georgia, um, my, parent, are, from, here, um,...</td>\n",
       "      <td>[2089, 5, 12, 205, 37, 69, 113, 5, 1, 119]</td>\n",
       "    </tr>\n",
       "    <tr>\n",
       "      <th>3</th>\n",
       "      <td>300.0</td>\n",
       "      <td>[um, my, parent, are, from, here, um, i, love,...</td>\n",
       "      <td>[5, 12, 205, 37, 69, 113, 5, 1, 119, 6]</td>\n",
       "    </tr>\n",
       "    <tr>\n",
       "      <th>4</th>\n",
       "      <td>300.0</td>\n",
       "      <td>[my, parent, are, from, here, um, i, love, it, i]</td>\n",
       "      <td>[12, 205, 37, 69, 113, 5, 1, 119, 6, 1]</td>\n",
       "    </tr>\n",
       "  </tbody>\n",
       "</table>\n",
       "</div>"
      ],
      "text/plain": [
       "   personId                                             answer  \\\n",
       "0     300.0  [good, atlanta, georgia, um, my, parent, are, ...   \n",
       "1     300.0  [atlanta, georgia, um, my, parent, are, from, ...   \n",
       "2     300.0  [georgia, um, my, parent, are, from, here, um,...   \n",
       "3     300.0  [um, my, parent, are, from, here, um, i, love,...   \n",
       "4     300.0  [my, parent, are, from, here, um, i, love, it, i]   \n",
       "\n",
       "                                       t_answer  \n",
       "0  [42, 1727, 2089, 5, 12, 205, 37, 69, 113, 5]  \n",
       "1   [1727, 2089, 5, 12, 205, 37, 69, 113, 5, 1]  \n",
       "2    [2089, 5, 12, 205, 37, 69, 113, 5, 1, 119]  \n",
       "3       [5, 12, 205, 37, 69, 113, 5, 1, 119, 6]  \n",
       "4       [12, 205, 37, 69, 113, 5, 1, 119, 6, 1]  "
      ]
     },
     "execution_count": 46,
     "metadata": {},
     "output_type": "execute_result"
    }
   ],
   "source": [
    "phrases_lp_stop.head()"
   ]
  },
  {
   "cell_type": "code",
   "execution_count": null,
   "metadata": {
    "scrolled": true
   },
   "outputs": [
    {
     "name": "stdout",
     "output_type": "stream",
     "text": [
      "0\n",
      "216\n",
      "948\n",
      "1289\n",
      "2306\n",
      "2820\n",
      "4467\n",
      "5272\n",
      "6634\n",
      "7128\n",
      "7522\n",
      "8134\n",
      "8492\n",
      "9114\n",
      "9541\n",
      "11143\n",
      "11859\n",
      "12199\n",
      "12612\n",
      "12990\n",
      "13364\n",
      "13740\n",
      "14193\n",
      "15043\n",
      "15774\n",
      "16260\n",
      "17226\n",
      "17541\n",
      "17988\n",
      "18998\n",
      "19510\n",
      "19807\n",
      "20537\n",
      "21021\n",
      "21756\n",
      "22506\n",
      "23241\n",
      "23777\n",
      "25875\n",
      "26337\n",
      "26890\n",
      "27214\n",
      "27861\n",
      "28208\n",
      "29187\n",
      "30033\n",
      "31162\n",
      "31393\n",
      "31906\n",
      "32726\n",
      "33442\n",
      "34097\n",
      "34961\n",
      "35630\n",
      "35916\n",
      "36462\n",
      "37272\n",
      "37520\n",
      "37921\n",
      "39117\n",
      "39453\n",
      "40176\n",
      "40612\n",
      "41633\n",
      "43633\n",
      "44724\n",
      "46096\n",
      "47446\n",
      "49283\n",
      "50470\n",
      "52061\n",
      "52512\n",
      "53621\n",
      "55410\n",
      "56647\n",
      "56942\n",
      "57855\n",
      "59048\n",
      "59743\n",
      "61122\n",
      "63171\n",
      "63974\n",
      "64588\n",
      "65735\n",
      "66337\n",
      "66430\n",
      "67611\n",
      "67925\n",
      "68167\n",
      "68473\n",
      "69276\n",
      "69612\n",
      "69995\n",
      "70382\n",
      "71056\n",
      "71623\n",
      "72482\n",
      "73094\n",
      "73766\n",
      "74375\n"
     ]
    }
   ],
   "source": [
    "windows_size = WINDOWS_SIZE\n",
    "cont = 0\n",
    "word_index = tokenizer\n",
    "phrases_lp = pd.DataFrame(columns=['personId','answer', 't_answer'])\n",
    "answers = all_participants_mix.groupby('personId').agg({'answer':['sum'], 't_answer':['sum']})\n",
    "\n",
    "for p in answers.iterrows():      \n",
    "    words = p[1][\"answer\"]['sum']\n",
    "    size = len(words)\n",
    "    word_tokens = p[1][\"t_answer\"]['sum']\n",
    "    print(cont)\n",
    "    for i in range(size):\n",
    "        sentence = words[i:min(i+windows_size,size)]  \n",
    "        tokens = word_tokens[i:min(i+windows_size,size)]  \n",
    "        phrases_lp.loc[cont] = [p[0], sentence, tokens]\n",
    "        cont = cont + 1"
   ]
  },
  {
   "cell_type": "code",
   "execution_count": 25,
   "metadata": {},
   "outputs": [
    {
     "name": "stdout",
     "output_type": "stream",
     "text": [
      "File was created\n"
     ]
    }
   ],
   "source": [
    "phrases_lp.to_csv(data_path + 'phrases_lp.csv', sep='\\t')\n",
    "print(\"File was created\")"
   ]
  },
  {
   "cell_type": "code",
   "execution_count": 26,
   "metadata": {},
   "outputs": [
    {
     "data": {
      "text/html": [
       "<div>\n",
       "<style scoped>\n",
       "    .dataframe tbody tr th:only-of-type {\n",
       "        vertical-align: middle;\n",
       "    }\n",
       "\n",
       "    .dataframe tbody tr th {\n",
       "        vertical-align: top;\n",
       "    }\n",
       "\n",
       "    .dataframe thead th {\n",
       "        text-align: right;\n",
       "    }\n",
       "</style>\n",
       "<table border=\"1\" class=\"dataframe\">\n",
       "  <thead>\n",
       "    <tr style=\"text-align: right;\">\n",
       "      <th></th>\n",
       "      <th>personId</th>\n",
       "      <th>answer</th>\n",
       "      <th>t_answer</th>\n",
       "    </tr>\n",
       "  </thead>\n",
       "  <tbody>\n",
       "    <tr>\n",
       "      <th>0</th>\n",
       "      <td>300.0</td>\n",
       "      <td>[good, atlanta, georgia, um, parent, um, love,...</td>\n",
       "      <td>[16, 1634, 1997, 1, 131, 1, 63, 5, 142, 5]</td>\n",
       "    </tr>\n",
       "    <tr>\n",
       "      <th>1</th>\n",
       "      <td>300.0</td>\n",
       "      <td>[atlanta, georgia, um, parent, um, love, like,...</td>\n",
       "      <td>[1634, 1997, 1, 131, 1, 63, 5, 142, 5, 334]</td>\n",
       "    </tr>\n",
       "    <tr>\n",
       "      <th>2</th>\n",
       "      <td>300.0</td>\n",
       "      <td>[georgia, um, parent, um, love, like, weather,...</td>\n",
       "      <td>[1997, 1, 131, 1, 63, 5, 142, 5, 334, 1]</td>\n",
       "    </tr>\n",
       "    <tr>\n",
       "      <th>3</th>\n",
       "      <td>300.0</td>\n",
       "      <td>[um, parent, um, love, like, weather, like, op...</td>\n",
       "      <td>[1, 131, 1, 63, 5, 142, 5, 334, 1, 39]</td>\n",
       "    </tr>\n",
       "    <tr>\n",
       "      <th>4</th>\n",
       "      <td>300.0</td>\n",
       "      <td>[parent, um, love, like, weather, like, opport...</td>\n",
       "      <td>[131, 1, 63, 5, 142, 5, 334, 1, 39, 1]</td>\n",
       "    </tr>\n",
       "  </tbody>\n",
       "</table>\n",
       "</div>"
      ],
      "text/plain": [
       "   personId                                             answer  \\\n",
       "0     300.0  [good, atlanta, georgia, um, parent, um, love,...   \n",
       "1     300.0  [atlanta, georgia, um, parent, um, love, like,...   \n",
       "2     300.0  [georgia, um, parent, um, love, like, weather,...   \n",
       "3     300.0  [um, parent, um, love, like, weather, like, op...   \n",
       "4     300.0  [parent, um, love, like, weather, like, opport...   \n",
       "\n",
       "                                      t_answer  \n",
       "0   [16, 1634, 1997, 1, 131, 1, 63, 5, 142, 5]  \n",
       "1  [1634, 1997, 1, 131, 1, 63, 5, 142, 5, 334]  \n",
       "2     [1997, 1, 131, 1, 63, 5, 142, 5, 334, 1]  \n",
       "3       [1, 131, 1, 63, 5, 142, 5, 334, 1, 39]  \n",
       "4       [131, 1, 63, 5, 142, 5, 334, 1, 39, 1]  "
      ]
     },
     "execution_count": 26,
     "metadata": {},
     "output_type": "execute_result"
    }
   ],
   "source": [
    "phrases_lp.head()"
   ]
  },
  {
   "cell_type": "code",
   "execution_count": 27,
   "metadata": {},
   "outputs": [
    {
     "data": {
      "text/html": [
       "<div>\n",
       "<style scoped>\n",
       "    .dataframe tbody tr th:only-of-type {\n",
       "        vertical-align: middle;\n",
       "    }\n",
       "\n",
       "    .dataframe tbody tr th {\n",
       "        vertical-align: top;\n",
       "    }\n",
       "\n",
       "    .dataframe thead th {\n",
       "        text-align: right;\n",
       "    }\n",
       "</style>\n",
       "<table border=\"1\" class=\"dataframe\">\n",
       "  <thead>\n",
       "    <tr style=\"text-align: right;\">\n",
       "      <th></th>\n",
       "      <th>personId</th>\n",
       "      <th>answer</th>\n",
       "      <th>t_answer</th>\n",
       "    </tr>\n",
       "  </thead>\n",
       "  <tbody>\n",
       "    <tr>\n",
       "      <th>0</th>\n",
       "      <td>300.0</td>\n",
       "      <td>[good, atlanta, georgia, um, parent, um, love,...</td>\n",
       "      <td>[16, 1634, 1997, 1, 131, 1, 63, 5, 142, 5]</td>\n",
       "    </tr>\n",
       "    <tr>\n",
       "      <th>1</th>\n",
       "      <td>300.0</td>\n",
       "      <td>[atlanta, georgia, um, parent, um, love, like,...</td>\n",
       "      <td>[1634, 1997, 1, 131, 1, 63, 5, 142, 5, 334]</td>\n",
       "    </tr>\n",
       "    <tr>\n",
       "      <th>2</th>\n",
       "      <td>300.0</td>\n",
       "      <td>[georgia, um, parent, um, love, like, weather,...</td>\n",
       "      <td>[1997, 1, 131, 1, 63, 5, 142, 5, 334, 1]</td>\n",
       "    </tr>\n",
       "    <tr>\n",
       "      <th>3</th>\n",
       "      <td>300.0</td>\n",
       "      <td>[um, parent, um, love, like, weather, like, op...</td>\n",
       "      <td>[1, 131, 1, 63, 5, 142, 5, 334, 1, 39]</td>\n",
       "    </tr>\n",
       "    <tr>\n",
       "      <th>4</th>\n",
       "      <td>300.0</td>\n",
       "      <td>[parent, um, love, like, weather, like, opport...</td>\n",
       "      <td>[131, 1, 63, 5, 142, 5, 334, 1, 39, 1]</td>\n",
       "    </tr>\n",
       "  </tbody>\n",
       "</table>\n",
       "</div>"
      ],
      "text/plain": [
       "   personId                                             answer  \\\n",
       "0     300.0  [good, atlanta, georgia, um, parent, um, love,...   \n",
       "1     300.0  [atlanta, georgia, um, parent, um, love, like,...   \n",
       "2     300.0  [georgia, um, parent, um, love, like, weather,...   \n",
       "3     300.0  [um, parent, um, love, like, weather, like, op...   \n",
       "4     300.0  [parent, um, love, like, weather, like, opport...   \n",
       "\n",
       "                                      t_answer  \n",
       "0   [16, 1634, 1997, 1, 131, 1, 63, 5, 142, 5]  \n",
       "1  [1634, 1997, 1, 131, 1, 63, 5, 142, 5, 334]  \n",
       "2     [1997, 1, 131, 1, 63, 5, 142, 5, 334, 1]  \n",
       "3       [1, 131, 1, 63, 5, 142, 5, 334, 1, 39]  \n",
       "4       [131, 1, 63, 5, 142, 5, 334, 1, 39, 1]  "
      ]
     },
     "execution_count": 27,
     "metadata": {},
     "output_type": "execute_result"
    }
   ],
   "source": [
    "phrases_lp[\"t_answer\"] = pad_sequences(phrases_lp[\"t_answer\"], value=0, padding=\"post\", maxlen=windows_size).tolist()\n",
    "phrases_lp.head()"
   ]
  },
  {
   "cell_type": "code",
   "execution_count": 28,
   "metadata": {},
   "outputs": [
    {
     "name": "stdout",
     "output_type": "stream",
     "text": [
      "File was created\n"
     ]
    }
   ],
   "source": [
    "phrases_lp_stop.to_csv(data_path + 'phrases_lp_stop.csv', sep='\\t')\n",
    "print(\"File was created\")"
   ]
  },
  {
   "cell_type": "code",
   "execution_count": 29,
   "metadata": {},
   "outputs": [
    {
     "data": {
      "text/html": [
       "<div>\n",
       "<style scoped>\n",
       "    .dataframe tbody tr th:only-of-type {\n",
       "        vertical-align: middle;\n",
       "    }\n",
       "\n",
       "    .dataframe tbody tr th {\n",
       "        vertical-align: top;\n",
       "    }\n",
       "\n",
       "    .dataframe thead th {\n",
       "        text-align: right;\n",
       "    }\n",
       "</style>\n",
       "<table border=\"1\" class=\"dataframe\">\n",
       "  <thead>\n",
       "    <tr style=\"text-align: right;\">\n",
       "      <th></th>\n",
       "      <th>Unnamed: 0</th>\n",
       "      <th>personId</th>\n",
       "      <th>answer</th>\n",
       "      <th>t_answer</th>\n",
       "    </tr>\n",
       "  </thead>\n",
       "  <tbody>\n",
       "    <tr>\n",
       "      <th>0</th>\n",
       "      <td>0</td>\n",
       "      <td>300.0</td>\n",
       "      <td>['good', 'atlanta', 'georgia', 'um', 'parent',...</td>\n",
       "      <td>[16, 1634, 1997, 1, 131, 1, 63, 5, 142, 5]</td>\n",
       "    </tr>\n",
       "    <tr>\n",
       "      <th>1</th>\n",
       "      <td>1</td>\n",
       "      <td>300.0</td>\n",
       "      <td>['atlanta', 'georgia', 'um', 'parent', 'um', '...</td>\n",
       "      <td>[1634, 1997, 1, 131, 1, 63, 5, 142, 5, 334]</td>\n",
       "    </tr>\n",
       "    <tr>\n",
       "      <th>2</th>\n",
       "      <td>2</td>\n",
       "      <td>300.0</td>\n",
       "      <td>['georgia', 'um', 'parent', 'um', 'love', 'lik...</td>\n",
       "      <td>[1997, 1, 131, 1, 63, 5, 142, 5, 334, 1]</td>\n",
       "    </tr>\n",
       "    <tr>\n",
       "      <th>3</th>\n",
       "      <td>3</td>\n",
       "      <td>300.0</td>\n",
       "      <td>['um', 'parent', 'um', 'love', 'like', 'weathe...</td>\n",
       "      <td>[1, 131, 1, 63, 5, 142, 5, 334, 1, 39]</td>\n",
       "    </tr>\n",
       "    <tr>\n",
       "      <th>4</th>\n",
       "      <td>4</td>\n",
       "      <td>300.0</td>\n",
       "      <td>['parent', 'um', 'love', 'like', 'weather', 'l...</td>\n",
       "      <td>[131, 1, 63, 5, 142, 5, 334, 1, 39, 1]</td>\n",
       "    </tr>\n",
       "  </tbody>\n",
       "</table>\n",
       "</div>"
      ],
      "text/plain": [
       "   Unnamed: 0  personId                                             answer  \\\n",
       "0           0     300.0  ['good', 'atlanta', 'georgia', 'um', 'parent',...   \n",
       "1           1     300.0  ['atlanta', 'georgia', 'um', 'parent', 'um', '...   \n",
       "2           2     300.0  ['georgia', 'um', 'parent', 'um', 'love', 'lik...   \n",
       "3           3     300.0  ['um', 'parent', 'um', 'love', 'like', 'weathe...   \n",
       "4           4     300.0  ['parent', 'um', 'love', 'like', 'weather', 'l...   \n",
       "\n",
       "                                      t_answer  \n",
       "0   [16, 1634, 1997, 1, 131, 1, 63, 5, 142, 5]  \n",
       "1  [1634, 1997, 1, 131, 1, 63, 5, 142, 5, 334]  \n",
       "2     [1997, 1, 131, 1, 63, 5, 142, 5, 334, 1]  \n",
       "3       [1, 131, 1, 63, 5, 142, 5, 334, 1, 39]  \n",
       "4       [131, 1, 63, 5, 142, 5, 334, 1, 39, 1]  "
      ]
     },
     "execution_count": 29,
     "metadata": {},
     "output_type": "execute_result"
    }
   ],
   "source": [
    "phrases_lp = pd.read_csv(data_path + 'phrases_lp.csv', sep='\\t', converters={\"t_answer\": literal_eval}) \n",
    "phrases_lp.head()"
   ]
  },
  {
   "cell_type": "code",
   "execution_count": 30,
   "metadata": {},
   "outputs": [],
   "source": [
    "def load_avec_dataset_file(path, score_column):\n",
    "    ds = pd.read_csv(path, sep=',')\n",
    "    ds['level'] = pd.cut(ds[score_column], bins=[-1,0,5,10,15,25], labels=[0,1,2,3,4])\n",
    "    ds['PHQ8_Score'] = ds[score_column]\n",
    "    ds['cat_level'] = keras.utils.to_categorical(ds['level'], num_classes).tolist()\n",
    "    ds = ds[['Participant_ID', 'level', 'cat_level', 'PHQ8_Score']]\n",
    "    ds = ds.astype({\"Participant_ID\": float, \"level\": int, 'PHQ8_Score': int})\n",
    "    return ds"
   ]
  },
  {
   "cell_type": "code",
   "execution_count": 32,
   "metadata": {
    "scrolled": true
   },
   "outputs": [
    {
     "name": "stdout",
     "output_type": "stream",
     "text": [
      "Size: train= 107, dev= 35, test= 47\n"
     ]
    },
    {
     "data": {
      "text/html": [
       "<div>\n",
       "<style scoped>\n",
       "    .dataframe tbody tr th:only-of-type {\n",
       "        vertical-align: middle;\n",
       "    }\n",
       "\n",
       "    .dataframe tbody tr th {\n",
       "        vertical-align: top;\n",
       "    }\n",
       "\n",
       "    .dataframe thead th {\n",
       "        text-align: right;\n",
       "    }\n",
       "</style>\n",
       "<table border=\"1\" class=\"dataframe\">\n",
       "  <thead>\n",
       "    <tr style=\"text-align: right;\">\n",
       "      <th></th>\n",
       "      <th>Participant_ID</th>\n",
       "      <th>level</th>\n",
       "      <th>cat_level</th>\n",
       "      <th>PHQ8_Score</th>\n",
       "    </tr>\n",
       "  </thead>\n",
       "  <tbody>\n",
       "    <tr>\n",
       "      <th>0</th>\n",
       "      <td>303.0</td>\n",
       "      <td>0</td>\n",
       "      <td>[1.0, 0.0, 0.0, 0.0, 0.0]</td>\n",
       "      <td>0</td>\n",
       "    </tr>\n",
       "    <tr>\n",
       "      <th>1</th>\n",
       "      <td>304.0</td>\n",
       "      <td>2</td>\n",
       "      <td>[0.0, 0.0, 1.0, 0.0, 0.0]</td>\n",
       "      <td>6</td>\n",
       "    </tr>\n",
       "    <tr>\n",
       "      <th>2</th>\n",
       "      <td>305.0</td>\n",
       "      <td>2</td>\n",
       "      <td>[0.0, 0.0, 1.0, 0.0, 0.0]</td>\n",
       "      <td>7</td>\n",
       "    </tr>\n",
       "    <tr>\n",
       "      <th>3</th>\n",
       "      <td>310.0</td>\n",
       "      <td>1</td>\n",
       "      <td>[0.0, 1.0, 0.0, 0.0, 0.0]</td>\n",
       "      <td>4</td>\n",
       "    </tr>\n",
       "    <tr>\n",
       "      <th>4</th>\n",
       "      <td>312.0</td>\n",
       "      <td>1</td>\n",
       "      <td>[0.0, 1.0, 0.0, 0.0, 0.0]</td>\n",
       "      <td>2</td>\n",
       "    </tr>\n",
       "  </tbody>\n",
       "</table>\n",
       "</div>"
      ],
      "text/plain": [
       "   Participant_ID  level                  cat_level  PHQ8_Score\n",
       "0           303.0      0  [1.0, 0.0, 0.0, 0.0, 0.0]           0\n",
       "1           304.0      2  [0.0, 0.0, 1.0, 0.0, 0.0]           6\n",
       "2           305.0      2  [0.0, 0.0, 1.0, 0.0, 0.0]           7\n",
       "3           310.0      1  [0.0, 1.0, 0.0, 0.0, 0.0]           4\n",
       "4           312.0      1  [0.0, 1.0, 0.0, 0.0, 0.0]           2"
      ]
     },
     "execution_count": 32,
     "metadata": {},
     "output_type": "execute_result"
    }
   ],
   "source": [
    "train = load_avec_dataset_file('/media/prahlad/New Volume/DIAC-WOZ/train_split_Depression_AVEC2017.csv', 'PHQ8_Score')\n",
    "dev = load_avec_dataset_file('/media/prahlad/New Volume/DIAC-WOZ/dev_split_Depression_AVEC2017.csv', 'PHQ8_Score')\n",
    "test = load_avec_dataset_file('/media/prahlad/New Volume/DIAC-WOZ/full_test_split.csv', 'PHQ_Score')\n",
    "print(\"Size: train= {}, dev= {}, test= {}\".format(len(train), len(dev), len(test)))\n",
    "train.head()"
   ]
  },
  {
   "cell_type": "code",
   "execution_count": 33,
   "metadata": {},
   "outputs": [
    {
     "name": "stdout",
     "output_type": "stream",
     "text": [
      "Total size = 189\n"
     ]
    }
   ],
   "source": [
    "ds_total = pd.concat([train,dev,test])\n",
    "total_phq8 = len(ds_total)\n",
    "print(\"Total size = {}\".format(total_phq8))"
   ]
  },
  {
   "cell_type": "code",
   "execution_count": 34,
   "metadata": {},
   "outputs": [
    {
     "name": "stdout",
     "output_type": "stream",
     "text": [
      "done\n"
     ]
    }
   ],
   "source": [
    "ds_total.to_csv(data_path + 'ds_total.csv', sep = '\\t')\n",
    "print('done')"
   ]
  },
  {
   "cell_type": "code",
   "execution_count": 35,
   "metadata": {},
   "outputs": [],
   "source": [
    "def split_by_phq_level(ds):\n",
    "    none_ds = ds[ds['level']==0]\n",
    "    mild_ds = ds[ds['level']==1]\n",
    "    moderate_ds = ds[ds['level']==2]\n",
    "    moderate_severe_ds = ds[ds['level']==3]\n",
    "    severe_ds = ds[ds['level']==4]\n",
    "    return (none_ds, mild_ds, moderate_ds, moderate_severe_ds, severe_ds)"
   ]
  },
  {
   "cell_type": "code",
   "execution_count": 36,
   "metadata": {},
   "outputs": [
    {
     "name": "stdout",
     "output_type": "stream",
     "text": [
      "Quantity per none_ds: 26, mild_ds: 70, moderate_ds 47, moderate_severe_ds: 24, severe_ds 22\n"
     ]
    }
   ],
   "source": [
    "\n",
    "none_ds, mild_ds, moderate_ds, moderate_severe_ds, severe_ds = split_by_phq_level(ds_total)\n",
    "print(\"Quantity per none_ds: {}, mild_ds: {}, moderate_ds {}, moderate_severe_ds: {}, severe_ds {}\".format(len(none_ds), len(mild_ds), len(moderate_ds), len(moderate_severe_ds), len(severe_ds)))"
   ]
  },
  {
   "cell_type": "code",
   "execution_count": 37,
   "metadata": {},
   "outputs": [
    {
     "name": "stdout",
     "output_type": "stream",
     "text": [
      "Quantity per none_ds: 26, mild_ds: 26, moderate_ds 26, moderate_severe_ds: 24, severe_ds 22\n"
     ]
    }
   ],
   "source": [
    "b_none_ds = ds_total[ds_total['level']==0]\n",
    "b_mild_ds = ds_total[ds_total['level']==1].sample(26)\n",
    "b_moderate_ds = ds_total[ds_total['level']==2].sample(26)\n",
    "b_moderate_severe_ds = ds_total[ds_total['level']==3]\n",
    "b_severe_ds = ds_total[ds_total['level']==4]\n",
    "\n",
    "ds_total_b = pd.concat([b_none_ds, b_mild_ds, b_moderate_ds, b_moderate_severe_ds, b_severe_ds])\n",
    "print(\"Quantity per none_ds: {}, mild_ds: {}, moderate_ds {}, moderate_severe_ds: {}, severe_ds {}\".format(len(b_none_ds), len(b_mild_ds), len(b_moderate_ds), len(b_moderate_severe_ds), len(b_severe_ds)))"
   ]
  },
  {
   "cell_type": "code",
   "execution_count": 38,
   "metadata": {},
   "outputs": [],
   "source": [
    "ds_lp = pd.merge(ds_total, phrases_lp,left_on='Participant_ID', right_on='personId')\n",
    "ds_lp_b = pd.merge(ds_total_b, phrases_lp,left_on='Participant_ID', right_on='personId')"
   ]
  },
  {
   "cell_type": "code",
   "execution_count": 39,
   "metadata": {},
   "outputs": [],
   "source": [
    "def distribute_instances(ds, split_in = [70,14,16]):\n",
    "    ds_shuffled = ds.sample(frac=1)\n",
    "    none_ds, mild_ds, moderate_ds, moderate_severe_ds, severe_ds = split_by_phq_level(ds_shuffled)\n",
    "    eq_ds = dict()\n",
    "    prev_none = prev_mild = prev_moderate = prev_moderate_severe = prev_severe = 0\n",
    "    split = split_in\n",
    "    for p in split:\n",
    "        last_none = min(len(none_ds), prev_none + round(len(none_ds) * p/100))\n",
    "        last_mild = min(len(mild_ds), prev_mild + round(len(mild_ds) * p/100))\n",
    "        last_moderate = min(len(moderate_ds), prev_moderate + round(len(moderate_ds) * p/100))\n",
    "        last_moderate_severe = min(len(moderate_severe_ds), prev_moderate_severe + round(len(moderate_severe_ds) * p/100))\n",
    "        last_severe = min(len(severe_ds), prev_severe + round(len(severe_ds) * p/100))  \n",
    "        eq_ds['d'+str(p)] = pd.concat([none_ds[prev_none: last_none], mild_ds[prev_mild: last_mild], moderate_ds[prev_moderate: last_moderate], moderate_severe_ds[prev_moderate_severe: last_moderate_severe], severe_ds[prev_severe: last_severe]])\n",
    "        prev_none = last_none\n",
    "        prev_mild = last_mild\n",
    "        prev_moderate = last_moderate\n",
    "        prev_moderate_severe = last_moderate_severe\n",
    "        prev_severe = last_severe  \n",
    "    return (eq_ds['d70'], eq_ds['d14'], eq_ds['d16'])"
   ]
  },
  {
   "cell_type": "code",
   "execution_count": 40,
   "metadata": {},
   "outputs": [],
   "source": [
    "train_lp, dev_lp, test_lp = distribute_instances(ds_lp)\n",
    "train_lp_b, dev_lp_b, test_lp_b = distribute_instances(ds_lp_b)"
   ]
  },
  {
   "cell_type": "code",
   "execution_count": 41,
   "metadata": {},
   "outputs": [
    {
     "data": {
      "text/html": [
       "<div>\n",
       "<style scoped>\n",
       "    .dataframe tbody tr th:only-of-type {\n",
       "        vertical-align: middle;\n",
       "    }\n",
       "\n",
       "    .dataframe tbody tr th {\n",
       "        vertical-align: top;\n",
       "    }\n",
       "\n",
       "    .dataframe thead th {\n",
       "        text-align: right;\n",
       "    }\n",
       "</style>\n",
       "<table border=\"1\" class=\"dataframe\">\n",
       "  <thead>\n",
       "    <tr style=\"text-align: right;\">\n",
       "      <th></th>\n",
       "      <th>Participant_ID</th>\n",
       "      <th>level</th>\n",
       "      <th>cat_level</th>\n",
       "      <th>PHQ8_Score</th>\n",
       "      <th>Unnamed: 0</th>\n",
       "      <th>personId</th>\n",
       "      <th>answer</th>\n",
       "      <th>t_answer</th>\n",
       "    </tr>\n",
       "  </thead>\n",
       "  <tbody>\n",
       "    <tr>\n",
       "      <th>135507</th>\n",
       "      <td>461.0</td>\n",
       "      <td>4</td>\n",
       "      <td>[0.0, 0.0, 0.0, 0.0, 1.0]</td>\n",
       "      <td>17</td>\n",
       "      <td>120137</td>\n",
       "      <td>461.0</td>\n",
       "      <td>['am', 'loyal', 'uh', 'quality', 'funny', 'um'...</td>\n",
       "      <td>[6, 556, 2, 458, 325, 1, 3065, 2, 68, 12]</td>\n",
       "    </tr>\n",
       "    <tr>\n",
       "      <th>134946</th>\n",
       "      <td>453.0</td>\n",
       "      <td>4</td>\n",
       "      <td>[0.0, 0.0, 0.0, 0.0, 1.0]</td>\n",
       "      <td>17</td>\n",
       "      <td>116394</td>\n",
       "      <td>453.0</td>\n",
       "      <td>['taste', 'feel', 'everything', 'yeah', 'uh', ...</td>\n",
       "      <td>[1967, 28, 93, 11, 2, 277, 8, 577, 194, 273]</td>\n",
       "    </tr>\n",
       "    <tr>\n",
       "      <th>85117</th>\n",
       "      <td>381.0</td>\n",
       "      <td>4</td>\n",
       "      <td>[0.0, 0.0, 0.0, 0.0, 1.0]</td>\n",
       "      <td>16</td>\n",
       "      <td>63641</td>\n",
       "      <td>381.0</td>\n",
       "      <td>['friend', 'child', 'feel', 'like', 'they', 'a...</td>\n",
       "      <td>[36, 111, 28, 5, 72, 54, 1027, 1656, 3, 6]</td>\n",
       "    </tr>\n",
       "    <tr>\n",
       "      <th>49076</th>\n",
       "      <td>414.0</td>\n",
       "      <td>4</td>\n",
       "      <td>[0.0, 0.0, 0.0, 0.0, 1.0]</td>\n",
       "      <td>16</td>\n",
       "      <td>85523</td>\n",
       "      <td>414.0</td>\n",
       "      <td>['together', 'right', 'better', 'nothing', 'la...</td>\n",
       "      <td>[241, 47, 80, 175, 8, 100, 1, 185, 184, 1158]</td>\n",
       "    </tr>\n",
       "    <tr>\n",
       "      <th>63982</th>\n",
       "      <td>448.0</td>\n",
       "      <td>4</td>\n",
       "      <td>[0.0, 0.0, 0.0, 0.0, 1.0]</td>\n",
       "      <td>18</td>\n",
       "      <td>112794</td>\n",
       "      <td>448.0</td>\n",
       "      <td>['like', 'care', 'that', 'way', 'explain', 'we...</td>\n",
       "      <td>[5, 167, 20, 60, 1042, 15, 130, 390, 620, 44]</td>\n",
       "    </tr>\n",
       "  </tbody>\n",
       "</table>\n",
       "</div>"
      ],
      "text/plain": [
       "        Participant_ID  level                  cat_level  PHQ8_Score  \\\n",
       "135507           461.0      4  [0.0, 0.0, 0.0, 0.0, 1.0]          17   \n",
       "134946           453.0      4  [0.0, 0.0, 0.0, 0.0, 1.0]          17   \n",
       "85117            381.0      4  [0.0, 0.0, 0.0, 0.0, 1.0]          16   \n",
       "49076            414.0      4  [0.0, 0.0, 0.0, 0.0, 1.0]          16   \n",
       "63982            448.0      4  [0.0, 0.0, 0.0, 0.0, 1.0]          18   \n",
       "\n",
       "        Unnamed: 0  personId  \\\n",
       "135507      120137     461.0   \n",
       "134946      116394     453.0   \n",
       "85117        63641     381.0   \n",
       "49076        85523     414.0   \n",
       "63982       112794     448.0   \n",
       "\n",
       "                                                   answer  \\\n",
       "135507  ['am', 'loyal', 'uh', 'quality', 'funny', 'um'...   \n",
       "134946  ['taste', 'feel', 'everything', 'yeah', 'uh', ...   \n",
       "85117   ['friend', 'child', 'feel', 'like', 'they', 'a...   \n",
       "49076   ['together', 'right', 'better', 'nothing', 'la...   \n",
       "63982   ['like', 'care', 'that', 'way', 'explain', 'we...   \n",
       "\n",
       "                                             t_answer  \n",
       "135507      [6, 556, 2, 458, 325, 1, 3065, 2, 68, 12]  \n",
       "134946   [1967, 28, 93, 11, 2, 277, 8, 577, 194, 273]  \n",
       "85117      [36, 111, 28, 5, 72, 54, 1027, 1656, 3, 6]  \n",
       "49076   [241, 47, 80, 175, 8, 100, 1, 185, 184, 1158]  \n",
       "63982   [5, 167, 20, 60, 1042, 15, 130, 390, 620, 44]  "
      ]
     },
     "execution_count": 41,
     "metadata": {},
     "output_type": "execute_result"
    }
   ],
   "source": [
    "train_lp.tail()"
   ]
  },
  {
   "cell_type": "code",
   "execution_count": 43,
   "metadata": {},
   "outputs": [],
   "source": [
    "def confusion_matrix(model, x, y):\n",
    "    prediction = model.predict(x, batch_size=None, verbose=0, steps=None)\n",
    "    labels=['none','mild','moderate','moderately severe', 'severe']\n",
    "\n",
    "    max_prediction = np.argmax(prediction, axis=1)\n",
    "    max_actual = np.argmax(y, axis=1)\n",
    "\n",
    "    y_pred = pd.Categorical.from_codes(max_prediction, labels)\n",
    "    y_actu = pd.Categorical.from_codes(max_actual, labels)\n",
    "\n",
    "    return pd.crosstab(y_actu, y_pred)"
   ]
  },
  {
   "cell_type": "code",
   "execution_count": 44,
   "metadata": {},
   "outputs": [],
   "source": [
    "embeddings_index = dict()\n",
    "f = open('/media/prahlad/New Volume/DIAC-WOZ/glove.6B.100d.txt', encoding=\"utf8\")\n",
    "for line in f:\n",
    "    values = line.split()\n",
    "    word = values[0]\n",
    "    coefs = np.asarray(values[1:], dtype='float32')\n",
    "    embeddings_index[word] = coefs\n",
    "f.close()"
   ]
  },
  {
   "cell_type": "code",
   "execution_count": 45,
   "metadata": {},
   "outputs": [],
   "source": [
    "def fill_embedding_matrix(tokenizer):\n",
    "    vocab_size = len(tokenizer.word_index)\n",
    "    embedding_matrix = np.zeros((vocab_size+1, 100))\n",
    "    for word, i in tokenizer.word_index.items():\n",
    "        embedding_vector = embeddings_index.get(word)\n",
    "        if embedding_vector is not None:        \n",
    "            embedding_matrix[i] = embedding_vector\n",
    "    return embedding_matrix"
   ]
  },
  {
   "cell_type": "code",
   "execution_count": 46,
   "metadata": {},
   "outputs": [],
   "source": [
    "embedding_matrix_lp = fill_embedding_matrix(tokenizer)"
   ]
  },
  {
   "cell_type": "code",
   "execution_count": 47,
   "metadata": {},
   "outputs": [
    {
     "data": {
      "text/html": [
       "<div>\n",
       "<style scoped>\n",
       "    .dataframe tbody tr th:only-of-type {\n",
       "        vertical-align: middle;\n",
       "    }\n",
       "\n",
       "    .dataframe tbody tr th {\n",
       "        vertical-align: top;\n",
       "    }\n",
       "\n",
       "    .dataframe thead th {\n",
       "        text-align: right;\n",
       "    }\n",
       "</style>\n",
       "<table border=\"1\" class=\"dataframe\">\n",
       "  <thead>\n",
       "    <tr style=\"text-align: right;\">\n",
       "      <th></th>\n",
       "      <th>Participant_ID</th>\n",
       "      <th>level</th>\n",
       "      <th>cat_level</th>\n",
       "      <th>PHQ8_Score</th>\n",
       "      <th>Unnamed: 0</th>\n",
       "      <th>personId</th>\n",
       "      <th>answer</th>\n",
       "      <th>t_answer</th>\n",
       "    </tr>\n",
       "  </thead>\n",
       "  <tbody>\n",
       "    <tr>\n",
       "      <th>76785</th>\n",
       "      <td>488.0</td>\n",
       "      <td>0</td>\n",
       "      <td>[1.0, 0.0, 0.0, 0.0, 0.0]</td>\n",
       "      <td>0</td>\n",
       "      <td>140546</td>\n",
       "      <td>488.0</td>\n",
       "      <td>['stuff', 'fought', 'time', 'anymore', 'that',...</td>\n",
       "      <td>[95, 1746, 17, 282, 20, 7, 84, 18, 293, 64]</td>\n",
       "    </tr>\n",
       "    <tr>\n",
       "      <th>31904</th>\n",
       "      <td>370.0</td>\n",
       "      <td>0</td>\n",
       "      <td>[1.0, 0.0, 0.0, 0.0, 0.0]</td>\n",
       "      <td>0</td>\n",
       "      <td>50843</td>\n",
       "      <td>370.0</td>\n",
       "      <td>['really', 'enjoyed', 'uh', 'that', 'that', 'g...</td>\n",
       "      <td>[7, 290, 2, 20, 20, 16, 179, 25, 2, 27]</td>\n",
       "    </tr>\n",
       "    <tr>\n",
       "      <th>126277</th>\n",
       "      <td>411.0</td>\n",
       "      <td>0</td>\n",
       "      <td>[1.0, 0.0, 0.0, 0.0, 0.0]</td>\n",
       "      <td>0</td>\n",
       "      <td>83003</td>\n",
       "      <td>411.0</td>\n",
       "      <td>['person', 'needed', 'hip', 'surgery', 'uh', '...</td>\n",
       "      <td>[71, 387, 1528, 1982, 2, 1729, 148, 221, 49, 79]</td>\n",
       "    </tr>\n",
       "    <tr>\n",
       "      <th>126170</th>\n",
       "      <td>411.0</td>\n",
       "      <td>0</td>\n",
       "      <td>[1.0, 0.0, 0.0, 0.0, 0.0]</td>\n",
       "      <td>0</td>\n",
       "      <td>82896</td>\n",
       "      <td>411.0</td>\n",
       "      <td>['healing', 'went', 'back', 'hospital', 'docto...</td>\n",
       "      <td>[3990, 52, 43, 664, 490, 67, 1111, 113, 31, 1127]</td>\n",
       "    </tr>\n",
       "    <tr>\n",
       "      <th>61710</th>\n",
       "      <td>446.0</td>\n",
       "      <td>0</td>\n",
       "      <td>[1.0, 0.0, 0.0, 0.0, 0.0]</td>\n",
       "      <td>0</td>\n",
       "      <td>110522</td>\n",
       "      <td>446.0</td>\n",
       "      <td>['actually', 'unfortunately', 'last', 'week', ...</td>\n",
       "      <td>[67, 875, 73, 148, 287, 1, 1, 60, 6576, 48]</td>\n",
       "    </tr>\n",
       "  </tbody>\n",
       "</table>\n",
       "</div>"
      ],
      "text/plain": [
       "        Participant_ID  level                  cat_level  PHQ8_Score  \\\n",
       "76785            488.0      0  [1.0, 0.0, 0.0, 0.0, 0.0]           0   \n",
       "31904            370.0      0  [1.0, 0.0, 0.0, 0.0, 0.0]           0   \n",
       "126277           411.0      0  [1.0, 0.0, 0.0, 0.0, 0.0]           0   \n",
       "126170           411.0      0  [1.0, 0.0, 0.0, 0.0, 0.0]           0   \n",
       "61710            446.0      0  [1.0, 0.0, 0.0, 0.0, 0.0]           0   \n",
       "\n",
       "        Unnamed: 0  personId  \\\n",
       "76785       140546     488.0   \n",
       "31904        50843     370.0   \n",
       "126277       83003     411.0   \n",
       "126170       82896     411.0   \n",
       "61710       110522     446.0   \n",
       "\n",
       "                                                   answer  \\\n",
       "76785   ['stuff', 'fought', 'time', 'anymore', 'that',...   \n",
       "31904   ['really', 'enjoyed', 'uh', 'that', 'that', 'g...   \n",
       "126277  ['person', 'needed', 'hip', 'surgery', 'uh', '...   \n",
       "126170  ['healing', 'went', 'back', 'hospital', 'docto...   \n",
       "61710   ['actually', 'unfortunately', 'last', 'week', ...   \n",
       "\n",
       "                                                 t_answer  \n",
       "76785         [95, 1746, 17, 282, 20, 7, 84, 18, 293, 64]  \n",
       "31904             [7, 290, 2, 20, 20, 16, 179, 25, 2, 27]  \n",
       "126277   [71, 387, 1528, 1982, 2, 1729, 148, 221, 49, 79]  \n",
       "126170  [3990, 52, 43, 664, 490, 67, 1111, 113, 31, 1127]  \n",
       "61710         [67, 875, 73, 148, 287, 1, 1, 60, 6576, 48]  "
      ]
     },
     "execution_count": 47,
     "metadata": {},
     "output_type": "execute_result"
    }
   ],
   "source": [
    "train_lp.head()"
   ]
  },
  {
   "cell_type": "code",
   "execution_count": 48,
   "metadata": {},
   "outputs": [
    {
     "name": "stdout",
     "output_type": "stream",
     "text": [
      "99969\n",
      "98784\n"
     ]
    }
   ],
   "source": [
    "train_lp_copy = train_lp\n",
    "print(len(train_lp_copy))\n",
    "for index,row in train_lp_copy.iterrows():\n",
    "    if len(row['t_answer'])<10:\n",
    "        train_lp_copy.drop(index,inplace=True)\n",
    "print(len(train_lp_copy))        "
   ]
  },
  {
   "cell_type": "code",
   "execution_count": 49,
   "metadata": {},
   "outputs": [],
   "source": [
    "train_lp = train_lp_copy"
   ]
  },
  {
   "cell_type": "code",
   "execution_count": 50,
   "metadata": {},
   "outputs": [
    {
     "name": "stdout",
     "output_type": "stream",
     "text": [
      "19993\n",
      "19772\n"
     ]
    }
   ],
   "source": [
    "dev_lp_copy = dev_lp\n",
    "print(len(dev_lp_copy))\n",
    "for index,row in dev_lp_copy.iterrows():\n",
    "    if len(row['t_answer'])<10:\n",
    "        dev_lp_copy.drop(index,inplace=True)\n",
    "print(len(dev_lp_copy))  \n",
    "dev_lp = dev_lp_copy"
   ]
  },
  {
   "cell_type": "code",
   "execution_count": 51,
   "metadata": {},
   "outputs": [
    {
     "name": "stdout",
     "output_type": "stream",
     "text": [
      "22849\n",
      "22580\n"
     ]
    }
   ],
   "source": [
    "test_lp_copy = test_lp\n",
    "print(len(test_lp_copy))\n",
    "for index,row in test_lp_copy.iterrows():\n",
    "    if len(row['t_answer'])<10:\n",
    "        test_lp_copy.drop(index,inplace=True)\n",
    "print(len(test_lp_copy))  \n",
    "test_lp = test_lp_copy"
   ]
  },
  {
   "cell_type": "code",
   "execution_count": 52,
   "metadata": {},
   "outputs": [],
   "source": [
    "train_a = np.stack(train_lp['t_answer'], axis=0)\n",
    "dev_a = np.stack(dev_lp['t_answer'], axis=0)\n",
    "train_y = np.stack(train_lp['cat_level'], axis=0)\n",
    "dev_y = np.stack(dev_lp['cat_level'], axis=0)"
   ]
  },
  {
   "cell_type": "code",
   "execution_count": 53,
   "metadata": {},
   "outputs": [
    {
     "name": "stdout",
     "output_type": "stream",
     "text": [
      "65295\n",
      "64524\n"
     ]
    }
   ],
   "source": [
    "train_lp_b_copy = train_lp_b\n",
    "print(len(train_lp_b_copy))\n",
    "for index,row in train_lp_b_copy.iterrows():\n",
    "    if len(row['t_answer'])<10:\n",
    "        train_lp_b_copy.drop(index,inplace=True)\n",
    "print(len(train_lp_b_copy))  \n",
    "train_lp_b = train_lp_b_copy"
   ]
  },
  {
   "cell_type": "code",
   "execution_count": 54,
   "metadata": {},
   "outputs": [
    {
     "name": "stdout",
     "output_type": "stream",
     "text": [
      "13059\n",
      "12915\n"
     ]
    }
   ],
   "source": [
    "dev_lp_b_copy = dev_lp_b\n",
    "print(len(dev_lp_b_copy))\n",
    "for index,row in dev_lp_b_copy.iterrows():\n",
    "    if len(row['t_answer'])<10:\n",
    "        dev_lp_b_copy.drop(index,inplace=True)\n",
    "print(len(dev_lp_b_copy))  \n",
    "dev_lp_b = dev_lp_b_copy"
   ]
  },
  {
   "cell_type": "code",
   "execution_count": 55,
   "metadata": {},
   "outputs": [
    {
     "name": "stdout",
     "output_type": "stream",
     "text": [
      "14924\n",
      "14731\n"
     ]
    }
   ],
   "source": [
    "test_lp_b_copy = test_lp_b\n",
    "print(len(test_lp_b_copy))\n",
    "for index,row in test_lp_b_copy.iterrows():\n",
    "    if len(row['t_answer'])<10:\n",
    "        test_lp_b_copy.drop(index,inplace=True)\n",
    "print(len(test_lp_b_copy))  \n",
    "test_lp_b = test_lp_b_copy"
   ]
  },
  {
   "cell_type": "code",
   "execution_count": 56,
   "metadata": {},
   "outputs": [],
   "source": [
    "\n",
    "train_a_b = np.stack(train_lp_b['t_answer'], axis=0)\n",
    "dev_a_b = np.stack(dev_lp_b['t_answer'], axis=0)\n",
    "train_y_b = np.stack(train_lp_b['cat_level'], axis=0)\n",
    "dev_y_b = np.stack(dev_lp_b['cat_level'], axis=0)"
   ]
  },
  {
   "cell_type": "code",
   "execution_count": 57,
   "metadata": {},
   "outputs": [],
   "source": [
    "early_stopping = EarlyStopping(monitor='val_loss', patience=3)"
   ]
  },
  {
   "cell_type": "code",
   "execution_count": 58,
   "metadata": {},
   "outputs": [
    {
     "name": "stdout",
     "output_type": "stream",
     "text": [
      "Model: \"model_1\"\n",
      "_________________________________________________________________\n",
      "Layer (type)                 Output Shape              Param #   \n",
      "=================================================================\n",
      "input_1 (InputLayer)         (None, 10)                0         \n",
      "_________________________________________________________________\n",
      "embedding_1 (Embedding)      (None, 10, 100)           745000    \n",
      "_________________________________________________________________\n",
      "batch_normalization_1 (Batch (None, 10, 100)           400       \n",
      "_________________________________________________________________\n",
      "lstm_1 (LSTM)                (None, 10, 100)           80400     \n",
      "_________________________________________________________________\n",
      "dense_1 (Dense)              (None, 10, 256)           25856     \n",
      "_________________________________________________________________\n",
      "dense_2 (Dense)              (None, 10, 256)           65792     \n",
      "_________________________________________________________________\n",
      "flatten_1 (Flatten)          (None, 2560)              0         \n",
      "_________________________________________________________________\n",
      "dense_3 (Dense)              (None, 5)                 12805     \n",
      "=================================================================\n",
      "Total params: 930,253\n",
      "Trainable params: 185,053\n",
      "Non-trainable params: 745,200\n",
      "_________________________________________________________________\n"
     ]
    }
   ],
   "source": [
    "\n",
    "answer_inp = Input(shape=(windows_size, ))\n",
    "embedding_size_glove = 100\n",
    "answer_emb1 = Embedding(vocab_size_stop+1, embedding_size_glove, weights=[embedding_matrix_lp], input_length=windows_size, trainable=False)(answer_inp)\n",
    "\n",
    "bt = BatchNormalization()(answer_emb1)\n",
    "lstm = LSTM(embedding_size_glove, return_sequences=True, dropout=0.2, recurrent_dropout=0.2)(bt)\n",
    "\n",
    "dense1 = Dense(units=256, activation=\"relu\")(lstm)\n",
    "dense2 = Dense(units=256, activation=\"relu\")(dense1)\n",
    "\n",
    "flatten = Flatten()(dense2)\n",
    "\n",
    "out = Dense(5,  activation='softmax')(flatten)\n",
    "\n",
    "model = Model(inputs=[answer_inp], outputs=[out])\n",
    "model.compile(optimizer=\"adam\", loss='categorical_crossentropy', metrics=['accuracy'])\n",
    "model.summary()"
   ]
  },
  {
   "cell_type": "code",
   "execution_count": 59,
   "metadata": {},
   "outputs": [
    {
     "name": "stdout",
     "output_type": "stream",
     "text": [
      "Train on 98784 samples, validate on 19772 samples\n",
      "Epoch 1/30\n",
      "98784/98784 [==============================] - 50s 507us/step - loss: 1.4501 - accuracy: 0.3745 - val_loss: 1.3323 - val_accuracy: 0.4372\n",
      "Epoch 2/30\n",
      "98784/98784 [==============================] - 52s 530us/step - loss: 1.2640 - accuracy: 0.4746 - val_loss: 1.0951 - val_accuracy: 0.5645\n",
      "Epoch 3/30\n",
      "98784/98784 [==============================] - 54s 543us/step - loss: 1.0986 - accuracy: 0.5556 - val_loss: 0.9052 - val_accuracy: 0.6495\n",
      "Epoch 4/30\n",
      "98784/98784 [==============================] - 54s 546us/step - loss: 0.9902 - accuracy: 0.6039 - val_loss: 0.7904 - val_accuracy: 0.7029\n",
      "Epoch 5/30\n",
      "98784/98784 [==============================] - 55s 556us/step - loss: 0.9067 - accuracy: 0.6418 - val_loss: 0.7116 - val_accuracy: 0.7395\n",
      "Epoch 6/30\n",
      "98784/98784 [==============================] - 55s 555us/step - loss: 0.8451 - accuracy: 0.6699 - val_loss: 0.6455 - val_accuracy: 0.7582\n",
      "Epoch 7/30\n",
      "98784/98784 [==============================] - 55s 555us/step - loss: 0.7962 - accuracy: 0.6915 - val_loss: 0.5794 - val_accuracy: 0.7878\n",
      "Epoch 8/30\n",
      "98784/98784 [==============================] - 56s 568us/step - loss: 0.7470 - accuracy: 0.7115 - val_loss: 0.5245 - val_accuracy: 0.8117\n",
      "Epoch 9/30\n",
      "98784/98784 [==============================] - 58s 586us/step - loss: 0.7179 - accuracy: 0.7238 - val_loss: 0.5028 - val_accuracy: 0.8266\n",
      "Epoch 10/30\n",
      "98784/98784 [==============================] - 55s 559us/step - loss: 0.6820 - accuracy: 0.7381 - val_loss: 0.4425 - val_accuracy: 0.8462\n",
      "Epoch 11/30\n",
      "98784/98784 [==============================] - 57s 580us/step - loss: 0.6530 - accuracy: 0.7499 - val_loss: 0.4329 - val_accuracy: 0.8469\n",
      "Epoch 12/30\n",
      "98784/98784 [==============================] - 61s 615us/step - loss: 0.6282 - accuracy: 0.7612 - val_loss: 0.3957 - val_accuracy: 0.8582\n",
      "Epoch 13/30\n",
      "98784/98784 [==============================] - 60s 604us/step - loss: 0.6034 - accuracy: 0.7712 - val_loss: 0.3635 - val_accuracy: 0.8738\n",
      "Epoch 14/30\n",
      "98784/98784 [==============================] - 61s 622us/step - loss: 0.5809 - accuracy: 0.7811 - val_loss: 0.3557 - val_accuracy: 0.8797\n",
      "Epoch 15/30\n",
      "98784/98784 [==============================] - 61s 613us/step - loss: 0.5622 - accuracy: 0.7887 - val_loss: 0.3229 - val_accuracy: 0.8877\n",
      "Epoch 16/30\n",
      "98784/98784 [==============================] - 60s 610us/step - loss: 0.5437 - accuracy: 0.7960 - val_loss: 0.2891 - val_accuracy: 0.9038\n",
      "Epoch 17/30\n",
      "98784/98784 [==============================] - 63s 633us/step - loss: 0.5265 - accuracy: 0.8024 - val_loss: 0.2810 - val_accuracy: 0.9101\n",
      "Epoch 18/30\n",
      "98784/98784 [==============================] - 62s 625us/step - loss: 0.5096 - accuracy: 0.8110 - val_loss: 0.2744 - val_accuracy: 0.9077\n",
      "Epoch 19/30\n",
      "98784/98784 [==============================] - 55s 559us/step - loss: 0.4922 - accuracy: 0.8166 - val_loss: 0.2519 - val_accuracy: 0.9181\n",
      "Epoch 20/30\n",
      "98784/98784 [==============================] - 47s 478us/step - loss: 0.4797 - accuracy: 0.8222 - val_loss: 0.2555 - val_accuracy: 0.9149\n",
      "Epoch 21/30\n",
      "98784/98784 [==============================] - 48s 484us/step - loss: 0.4695 - accuracy: 0.8249 - val_loss: 0.2444 - val_accuracy: 0.9186\n",
      "Epoch 22/30\n",
      "98784/98784 [==============================] - 48s 487us/step - loss: 0.4560 - accuracy: 0.8308 - val_loss: 0.2255 - val_accuracy: 0.9259\n",
      "Epoch 23/30\n",
      "98784/98784 [==============================] - 64s 649us/step - loss: 0.4452 - accuracy: 0.8362 - val_loss: 0.2120 - val_accuracy: 0.9311\n",
      "Epoch 24/30\n",
      "98784/98784 [==============================] - 63s 635us/step - loss: 0.4330 - accuracy: 0.8386 - val_loss: 0.2061 - val_accuracy: 0.9328\n",
      "Epoch 25/30\n",
      "98784/98784 [==============================] - 60s 610us/step - loss: 0.4195 - accuracy: 0.8444 - val_loss: 0.1992 - val_accuracy: 0.9353\n",
      "Epoch 26/30\n",
      "98784/98784 [==============================] - 52s 528us/step - loss: 0.4171 - accuracy: 0.8450 - val_loss: 0.1902 - val_accuracy: 0.9369\n",
      "Epoch 27/30\n",
      "98784/98784 [==============================] - 51s 513us/step - loss: 0.4050 - accuracy: 0.8505 - val_loss: 0.1830 - val_accuracy: 0.9407\n",
      "Epoch 28/30\n",
      "98784/98784 [==============================] - 53s 534us/step - loss: 0.3974 - accuracy: 0.8534 - val_loss: 0.1712 - val_accuracy: 0.9446\n",
      "Epoch 29/30\n",
      "98784/98784 [==============================] - 56s 565us/step - loss: 0.3903 - accuracy: 0.8563 - val_loss: 0.1811 - val_accuracy: 0.9399\n",
      "Epoch 30/30\n",
      "98784/98784 [==============================] - 60s 602us/step - loss: 0.3823 - accuracy: 0.8598 - val_loss: 0.1609 - val_accuracy: 0.9477\n"
     ]
    }
   ],
   "source": [
    "model_glove_lstm_hist = model.fit(train_a, train_y, validation_data=(dev_a, dev_y), epochs=30, batch_size=64, shuffle=True, callbacks=[early_stopping])"
   ]
  },
  {
   "cell_type": "code",
   "execution_count": 60,
   "metadata": {},
   "outputs": [
    {
     "name": "stdout",
     "output_type": "stream",
     "text": [
      "Train on 64524 samples, validate on 12915 samples\n",
      "Epoch 1/30\n",
      "64524/64524 [==============================] - 25s 389us/step - loss: 0.3902 - accuracy: 0.8585 - val_loss: 0.0721 - val_accuracy: 0.9848\n",
      "Epoch 2/30\n",
      "64524/64524 [==============================] - 36s 561us/step - loss: 0.3404 - accuracy: 0.8759 - val_loss: 0.0643 - val_accuracy: 0.9851\n",
      "Epoch 3/30\n",
      "64524/64524 [==============================] - 37s 567us/step - loss: 0.3219 - accuracy: 0.8844 - val_loss: 0.0634 - val_accuracy: 0.9844\n",
      "Epoch 4/30\n",
      "64524/64524 [==============================] - 38s 591us/step - loss: 0.3027 - accuracy: 0.8905 - val_loss: 0.0649 - val_accuracy: 0.9834\n",
      "Epoch 5/30\n",
      "64524/64524 [==============================] - 41s 628us/step - loss: 0.2890 - accuracy: 0.8954 - val_loss: 0.0590 - val_accuracy: 0.9839\n",
      "Epoch 6/30\n",
      "64524/64524 [==============================] - 40s 625us/step - loss: 0.2749 - accuracy: 0.9015 - val_loss: 0.0548 - val_accuracy: 0.9858\n",
      "Epoch 7/30\n",
      "64524/64524 [==============================] - 40s 617us/step - loss: 0.2667 - accuracy: 0.9063 - val_loss: 0.0498 - val_accuracy: 0.9878\n",
      "Epoch 8/30\n",
      "64524/64524 [==============================] - 46s 711us/step - loss: 0.2591 - accuracy: 0.9074 - val_loss: 0.0522 - val_accuracy: 0.9857\n",
      "Epoch 9/30\n",
      "64524/64524 [==============================] - 36s 563us/step - loss: 0.2490 - accuracy: 0.9109 - val_loss: 0.0490 - val_accuracy: 0.9870\n",
      "Epoch 10/30\n",
      "64524/64524 [==============================] - 41s 637us/step - loss: 0.2457 - accuracy: 0.9125 - val_loss: 0.0455 - val_accuracy: 0.9873\n",
      "Epoch 11/30\n",
      "64524/64524 [==============================] - 35s 546us/step - loss: 0.2382 - accuracy: 0.9146 - val_loss: 0.0483 - val_accuracy: 0.9867\n",
      "Epoch 12/30\n",
      "64524/64524 [==============================] - 34s 520us/step - loss: 0.2296 - accuracy: 0.9175 - val_loss: 0.0440 - val_accuracy: 0.9889\n",
      "Epoch 13/30\n",
      "64524/64524 [==============================] - 34s 522us/step - loss: 0.2241 - accuracy: 0.9195 - val_loss: 0.0448 - val_accuracy: 0.9879\n",
      "Epoch 14/30\n",
      "64524/64524 [==============================] - 34s 523us/step - loss: 0.2211 - accuracy: 0.9214 - val_loss: 0.0426 - val_accuracy: 0.9886\n",
      "Epoch 15/30\n",
      "64524/64524 [==============================] - 35s 542us/step - loss: 0.2179 - accuracy: 0.9234 - val_loss: 0.0440 - val_accuracy: 0.9872\n",
      "Epoch 16/30\n",
      "64524/64524 [==============================] - 34s 531us/step - loss: 0.2125 - accuracy: 0.9240 - val_loss: 0.0487 - val_accuracy: 0.9861\n",
      "Epoch 17/30\n",
      "64524/64524 [==============================] - 48s 740us/step - loss: 0.2074 - accuracy: 0.9259 - val_loss: 0.0412 - val_accuracy: 0.9888\n",
      "Epoch 18/30\n",
      "64524/64524 [==============================] - 43s 664us/step - loss: 0.2055 - accuracy: 0.9269 - val_loss: 0.0476 - val_accuracy: 0.9860\n",
      "Epoch 19/30\n",
      "64524/64524 [==============================] - 44s 684us/step - loss: 0.2023 - accuracy: 0.9285 - val_loss: 0.0391 - val_accuracy: 0.9887\n",
      "Epoch 20/30\n",
      "64524/64524 [==============================] - 35s 539us/step - loss: 0.2001 - accuracy: 0.9286 - val_loss: 0.0389 - val_accuracy: 0.9892\n",
      "Epoch 21/30\n",
      "64524/64524 [==============================] - 36s 554us/step - loss: 0.1978 - accuracy: 0.9297 - val_loss: 0.0377 - val_accuracy: 0.9895\n",
      "Epoch 22/30\n",
      "64524/64524 [==============================] - 42s 655us/step - loss: 0.1938 - accuracy: 0.9321 - val_loss: 0.0404 - val_accuracy: 0.9885\n",
      "Epoch 23/30\n",
      "64524/64524 [==============================] - 45s 703us/step - loss: 0.1903 - accuracy: 0.9328 - val_loss: 0.0354 - val_accuracy: 0.9895\n",
      "Epoch 24/30\n",
      "64524/64524 [==============================] - 35s 541us/step - loss: 0.1881 - accuracy: 0.9333 - val_loss: 0.0355 - val_accuracy: 0.9904\n",
      "Epoch 25/30\n",
      "64524/64524 [==============================] - 37s 572us/step - loss: 0.1848 - accuracy: 0.9344 - val_loss: 0.0373 - val_accuracy: 0.9892\n",
      "Epoch 26/30\n",
      "64524/64524 [==============================] - 42s 648us/step - loss: 0.1850 - accuracy: 0.9345 - val_loss: 0.0341 - val_accuracy: 0.9906\n",
      "Epoch 27/30\n",
      "64524/64524 [==============================] - 39s 601us/step - loss: 0.1844 - accuracy: 0.9339 - val_loss: 0.0351 - val_accuracy: 0.9885\n",
      "Epoch 28/30\n",
      "64524/64524 [==============================] - 45s 692us/step - loss: 0.1762 - accuracy: 0.9385 - val_loss: 0.0325 - val_accuracy: 0.9910\n",
      "Epoch 29/30\n",
      "64524/64524 [==============================] - 39s 609us/step - loss: 0.1771 - accuracy: 0.9364 - val_loss: 0.0377 - val_accuracy: 0.9878\n",
      "Epoch 30/30\n",
      "64524/64524 [==============================] - 35s 550us/step - loss: 0.1744 - accuracy: 0.9388 - val_loss: 0.0326 - val_accuracy: 0.9891\n"
     ]
    }
   ],
   "source": [
    "model_glove_lstm_hist_b = model.fit(train_a_b, train_y_b, validation_data=(dev_a_b, dev_y_b), epochs=30, batch_size=64, shuffle=True, callbacks=[early_stopping])"
   ]
  },
  {
   "cell_type": "code",
   "execution_count": 61,
   "metadata": {},
   "outputs": [],
   "source": [
    "test_a = np.stack(test_lp['t_answer'], axis=0)\n",
    "test_y = np.stack(test_lp['cat_level'], axis=0)\n",
    "test_a_b = np.stack(test_lp_b['t_answer'], axis=0)\n",
    "test_y_b = np.stack(test_lp_b['cat_level'], axis=0)\n",
    "df_confusion = confusion_matrix(model, test_a_b, test_y_b)"
   ]
  },
  {
   "cell_type": "code",
   "execution_count": 62,
   "metadata": {},
   "outputs": [
    {
     "data": {
      "text/html": [
       "<div>\n",
       "<style scoped>\n",
       "    .dataframe tbody tr th:only-of-type {\n",
       "        vertical-align: middle;\n",
       "    }\n",
       "\n",
       "    .dataframe tbody tr th {\n",
       "        vertical-align: top;\n",
       "    }\n",
       "\n",
       "    .dataframe thead th {\n",
       "        text-align: right;\n",
       "    }\n",
       "</style>\n",
       "<table border=\"1\" class=\"dataframe\">\n",
       "  <thead>\n",
       "    <tr style=\"text-align: right;\">\n",
       "      <th>col_0</th>\n",
       "      <th>none</th>\n",
       "      <th>mild</th>\n",
       "      <th>moderate</th>\n",
       "      <th>moderately severe</th>\n",
       "      <th>severe</th>\n",
       "    </tr>\n",
       "    <tr>\n",
       "      <th>row_0</th>\n",
       "      <th></th>\n",
       "      <th></th>\n",
       "      <th></th>\n",
       "      <th></th>\n",
       "      <th></th>\n",
       "    </tr>\n",
       "  </thead>\n",
       "  <tbody>\n",
       "    <tr>\n",
       "      <th>none</th>\n",
       "      <td>3531</td>\n",
       "      <td>8</td>\n",
       "      <td>5</td>\n",
       "      <td>6</td>\n",
       "      <td>0</td>\n",
       "    </tr>\n",
       "    <tr>\n",
       "      <th>mild</th>\n",
       "      <td>8</td>\n",
       "      <td>2929</td>\n",
       "      <td>19</td>\n",
       "      <td>7</td>\n",
       "      <td>2</td>\n",
       "    </tr>\n",
       "    <tr>\n",
       "      <th>moderate</th>\n",
       "      <td>9</td>\n",
       "      <td>4</td>\n",
       "      <td>2986</td>\n",
       "      <td>11</td>\n",
       "      <td>5</td>\n",
       "    </tr>\n",
       "    <tr>\n",
       "      <th>moderately severe</th>\n",
       "      <td>9</td>\n",
       "      <td>1</td>\n",
       "      <td>4</td>\n",
       "      <td>2798</td>\n",
       "      <td>3</td>\n",
       "    </tr>\n",
       "    <tr>\n",
       "      <th>severe</th>\n",
       "      <td>9</td>\n",
       "      <td>2</td>\n",
       "      <td>2</td>\n",
       "      <td>14</td>\n",
       "      <td>2359</td>\n",
       "    </tr>\n",
       "  </tbody>\n",
       "</table>\n",
       "</div>"
      ],
      "text/plain": [
       "col_0              none  mild  moderate  moderately severe  severe\n",
       "row_0                                                             \n",
       "none               3531     8         5                  6       0\n",
       "mild                  8  2929        19                  7       2\n",
       "moderate              9     4      2986                 11       5\n",
       "moderately severe     9     1         4               2798       3\n",
       "severe                9     2         2                 14    2359"
      ]
     },
     "execution_count": 62,
     "metadata": {},
     "output_type": "execute_result"
    }
   ],
   "source": [
    "df_confusion"
   ]
  },
  {
   "cell_type": "markdown",
   "metadata": {},
   "source": [
    "score = model.evaluate(test_a_b, test_y_b, verbose=0)\n",
    "print('Test loss:', score[0])\n",
    "print('Test accuracy:', score[1])"
   ]
  },
  {
   "cell_type": "code",
   "execution_count": 64,
   "metadata": {},
   "outputs": [
    {
     "name": "stdout",
     "output_type": "stream",
     "text": [
      "File got created\n"
     ]
    }
   ],
   "source": [
    "model.save('/media/prahlad/New Volume/DIAC-WOZ/model_glove_lstm_b.h5')\n",
    "json_dict = model_glove_lstm_hist.history\n",
    "with open('/media/prahlad/New Volume/DIAC-WOZ/model_glove_lstm_b_hist.json', 'w') as f:\n",
    "    f.write(str(json_dict))\n",
    "print('File got created')    "
   ]
  },
  {
   "cell_type": "code",
   "execution_count": 3,
   "metadata": {},
   "outputs": [],
   "source": [
    "from keras.models import load_model\n",
    "model = load_model('/media/prahlad/New Volume/DIAC-WOZ/model_glove_lstm_b.h5')"
   ]
  },
  {
   "cell_type": "code",
   "execution_count": 74,
   "metadata": {},
   "outputs": [
    {
     "data": {
      "image/png": "[encoded data removed]",
      "text/plain": [
       "<Figure size 432x288 with 1 Axes>"
      ]
     },
     "metadata": {
      "needs_background": "light"
     },
     "output_type": "display_data"
    },
    {
     "data": {
      "image/png": "[encoded data removed]",
      "text/plain": [
       "<Figure size 432x288 with 1 Axes>"
      ]
     },
     "metadata": {
      "needs_background": "light"
     },
     "output_type": "display_data"
    },
    {
     "data": {
      "image/png": "[encoded data removed]",
      "text/plain": [
       "<Figure size 432x288 with 1 Axes>"
      ]
     },
     "metadata": {
      "needs_background": "light"
     },
     "output_type": "display_data"
    },
    {
     "data": {
      "image/png": "[encoded data removed]",
      "text/plain": [
       "<Figure size 432x288 with 1 Axes>"
      ]
     },
     "metadata": {
      "needs_background": "light"
     },
     "output_type": "display_data"
    }
   ],
   "source": [
    "plot_loss(model_glove_lstm_hist)\n",
    "plot_acc(model_glove_lstm_hist)\n",
    "plot_loss(model_glove_lstm_hist_b)\n",
    "plot_acc(model_glove_lstm_hist_b)"
   ]
  },
  {
   "cell_type": "code",
   "execution_count": 14,
   "metadata": {},
   "outputs": [],
   "source": [
    "def test_model(text, model):\n",
    "    print(text)\n",
    "    word_list = text_to_wordlist(text)\n",
    "    sequences = tokenizer.texts_to_sequences([word_list])\n",
    "    sequences_input = list(itertools.chain(*sequences))\n",
    "    sequences_input =  pad_sequences([sequences_input], value=0, padding=\"post\", maxlen=windows_size).tolist()\n",
    "    print(sequences_input)\n",
    "    input_a = np.asarray(sequences_input)\n",
    "    pred = model.predict(input_a, batch_size=None, verbose=0, steps=None)\n",
    "    predicted_class = np.argmax(pred)\n",
    "    print(labels[predicted_class])"
   ]
  },
  {
   "cell_type": "code",
   "execution_count": 10,
   "metadata": {
    "scrolled": true
   },
   "outputs": [
    {
     "name": "stdout",
     "output_type": "stream",
     "text": [
      "All is going right with the party, I'm happy to know new people\n"
     ]
    },
    {
     "ename": "NameError",
     "evalue": "name 'stopwords' is not defined",
     "output_type": "error",
     "traceback": [
      "\u001b[0;31m---------------------------------------------------------------------------\u001b[0m",
      "\u001b[0;31mNameError\u001b[0m                                 Traceback (most recent call last)",
      "\u001b[0;32m<ipython-input-10-e0294c167683>\u001b[0m in \u001b[0;36m<module>\u001b[0;34m\u001b[0m\n\u001b[1;32m      1\u001b[0m \u001b[0msen\u001b[0m \u001b[0;34m=\u001b[0m \u001b[0;34m\"All is going right with the party, I'm happy to know new people\"\u001b[0m\u001b[0;34m\u001b[0m\u001b[0;34m\u001b[0m\u001b[0m\n\u001b[0;32m----> 2\u001b[0;31m \u001b[0mtest_model\u001b[0m\u001b[0;34m(\u001b[0m\u001b[0msen\u001b[0m\u001b[0;34m,\u001b[0m \u001b[0mmodel\u001b[0m\u001b[0;34m)\u001b[0m\u001b[0;34m\u001b[0m\u001b[0;34m\u001b[0m\u001b[0m\n\u001b[0m\u001b[1;32m      3\u001b[0m \u001b[0msen\u001b[0m \u001b[0;34m=\u001b[0m \u001b[0;34m\"I want an ice cream and have some fries for lunch\"\u001b[0m\u001b[0;34m\u001b[0m\u001b[0;34m\u001b[0m\u001b[0m\n\u001b[1;32m      4\u001b[0m \u001b[0mtest_model\u001b[0m\u001b[0;34m(\u001b[0m\u001b[0msen\u001b[0m\u001b[0;34m,\u001b[0m \u001b[0mmodel\u001b[0m\u001b[0;34m)\u001b[0m\u001b[0;34m\u001b[0m\u001b[0;34m\u001b[0m\u001b[0m\n\u001b[1;32m      5\u001b[0m \u001b[0msen\u001b[0m \u001b[0;34m=\u001b[0m \u001b[0;34m\"I'm afraid of losing my work, I don't have any money\"\u001b[0m\u001b[0;34m\u001b[0m\u001b[0;34m\u001b[0m\u001b[0m\n",
      "\u001b[0;32m<ipython-input-9-98756f00d045>\u001b[0m in \u001b[0;36mtest_model\u001b[0;34m(text, model)\u001b[0m\n\u001b[1;32m      1\u001b[0m \u001b[0;32mdef\u001b[0m \u001b[0mtest_model\u001b[0m\u001b[0;34m(\u001b[0m\u001b[0mtext\u001b[0m\u001b[0;34m,\u001b[0m \u001b[0mmodel\u001b[0m\u001b[0;34m)\u001b[0m\u001b[0;34m:\u001b[0m\u001b[0;34m\u001b[0m\u001b[0;34m\u001b[0m\u001b[0m\n\u001b[1;32m      2\u001b[0m     \u001b[0mprint\u001b[0m\u001b[0;34m(\u001b[0m\u001b[0mtext\u001b[0m\u001b[0;34m)\u001b[0m\u001b[0;34m\u001b[0m\u001b[0;34m\u001b[0m\u001b[0m\n\u001b[0;32m----> 3\u001b[0;31m     \u001b[0mword_list\u001b[0m \u001b[0;34m=\u001b[0m \u001b[0mtext_to_wordlist\u001b[0m\u001b[0;34m(\u001b[0m\u001b[0mtext\u001b[0m\u001b[0;34m)\u001b[0m\u001b[0;34m\u001b[0m\u001b[0;34m\u001b[0m\u001b[0m\n\u001b[0m\u001b[1;32m      4\u001b[0m     \u001b[0msequences\u001b[0m \u001b[0;34m=\u001b[0m \u001b[0mtokenizer\u001b[0m\u001b[0;34m.\u001b[0m\u001b[0mtexts_to_sequences\u001b[0m\u001b[0;34m(\u001b[0m\u001b[0;34m[\u001b[0m\u001b[0mword_list\u001b[0m\u001b[0;34m]\u001b[0m\u001b[0;34m)\u001b[0m\u001b[0;34m\u001b[0m\u001b[0;34m\u001b[0m\u001b[0m\n\u001b[1;32m      5\u001b[0m     \u001b[0msequences_input\u001b[0m \u001b[0;34m=\u001b[0m \u001b[0mlist\u001b[0m\u001b[0;34m(\u001b[0m\u001b[0mitertools\u001b[0m\u001b[0;34m.\u001b[0m\u001b[0mchain\u001b[0m\u001b[0;34m(\u001b[0m\u001b[0;34m*\u001b[0m\u001b[0msequences\u001b[0m\u001b[0;34m)\u001b[0m\u001b[0;34m)\u001b[0m\u001b[0;34m\u001b[0m\u001b[0;34m\u001b[0m\u001b[0m\n",
      "\u001b[0;32m<ipython-input-7-dc1a23f9d408>\u001b[0m in \u001b[0;36mtext_to_wordlist\u001b[0;34m(text, remove_stopwords, stem_words)\u001b[0m\n\u001b[1;32m      7\u001b[0m     \u001b[0;31m# Optionally, remove stop words\u001b[0m\u001b[0;34m\u001b[0m\u001b[0;34m\u001b[0m\u001b[0;34m\u001b[0m\u001b[0m\n\u001b[1;32m      8\u001b[0m     \u001b[0;32mif\u001b[0m \u001b[0mremove_stopwords\u001b[0m\u001b[0;34m:\u001b[0m\u001b[0;34m\u001b[0m\u001b[0;34m\u001b[0m\u001b[0m\n\u001b[0;32m----> 9\u001b[0;31m         \u001b[0mstops\u001b[0m \u001b[0;34m=\u001b[0m \u001b[0mset\u001b[0m\u001b[0;34m(\u001b[0m\u001b[0mstopwords\u001b[0m\u001b[0;34m.\u001b[0m\u001b[0mwords\u001b[0m\u001b[0;34m(\u001b[0m\u001b[0;34m\"english\"\u001b[0m\u001b[0;34m)\u001b[0m\u001b[0;34m)\u001b[0m\u001b[0;34m\u001b[0m\u001b[0;34m\u001b[0m\u001b[0m\n\u001b[0m\u001b[1;32m     10\u001b[0m         \u001b[0mtext\u001b[0m \u001b[0;34m=\u001b[0m \u001b[0;34m[\u001b[0m\u001b[0mwordnet_lemmatizer\u001b[0m\u001b[0;34m.\u001b[0m\u001b[0mlemmatize\u001b[0m\u001b[0;34m(\u001b[0m\u001b[0mw\u001b[0m\u001b[0;34m)\u001b[0m \u001b[0;32mfor\u001b[0m \u001b[0mw\u001b[0m \u001b[0;32min\u001b[0m \u001b[0mtext\u001b[0m \u001b[0;32mif\u001b[0m \u001b[0;32mnot\u001b[0m \u001b[0mw\u001b[0m \u001b[0;32min\u001b[0m \u001b[0mstops\u001b[0m \u001b[0;34m]\u001b[0m\u001b[0;34m\u001b[0m\u001b[0;34m\u001b[0m\u001b[0m\n\u001b[1;32m     11\u001b[0m         \u001b[0mtext\u001b[0m \u001b[0;34m=\u001b[0m \u001b[0;34m[\u001b[0m\u001b[0mw\u001b[0m \u001b[0;32mfor\u001b[0m \u001b[0mw\u001b[0m \u001b[0;32min\u001b[0m \u001b[0mtext\u001b[0m \u001b[0;32mif\u001b[0m \u001b[0mw\u001b[0m \u001b[0;34m!=\u001b[0m \u001b[0;34m\"nan\"\u001b[0m \u001b[0;34m]\u001b[0m\u001b[0;34m\u001b[0m\u001b[0;34m\u001b[0m\u001b[0m\n",
      "\u001b[0;31mNameError\u001b[0m: name 'stopwords' is not defined"
     ]
    }
   ],
   "source": [
    "sen = \"All is going right with the party, I'm happy to know new people\"\n",
    "test_model(sen, model)\n",
    "sen = \"I want an ice cream and have some fries for lunch\"\n",
    "test_model(sen, model)\n",
    "sen = \"I'm afraid of losing my work, I don't have any money\"\n",
    "test_model(sen, model)\n",
    "sen = \"I'm worried about my future, I'm afraid of it\"\n",
    "test_model(sen, model)\n",
    "sen = \"I am a graduate student\"\n",
    "test_model(sen, model)\n",
    "sen = \"I am getting married\"\n",
    "test_model(sen, model)\n",
    "sen = \"This party is great, I know lots of people\"\n",
    "test_model(sen, model)\n",
    "sen = \"I miss my parents, brothers and sisters\"\n",
    "test_model(sen, model)\n",
    "sen = \"I detest my horrible job\"\n",
    "test_model(sen, model)\n",
    "sen = \"suicide\"\n",
    "test_model(sen, model)"
   ]
  },
  {
   "cell_type": "code",
   "execution_count": 85,
   "metadata": {},
   "outputs": [
    {
     "name": "stdout",
     "output_type": "stream",
     "text": [
      "Model: \"model_2\"\n",
      "_________________________________________________________________\n",
      "Layer (type)                 Output Shape              Param #   \n",
      "=================================================================\n",
      "input_2 (InputLayer)         (None, 10)                0         \n",
      "_________________________________________________________________\n",
      "embedding_2 (Embedding)      (None, 10, 100)           745000    \n",
      "_________________________________________________________________\n",
      "lstm_2 (LSTM)                (None, 10, 100)           80400     \n",
      "_________________________________________________________________\n",
      "lstm_3 (LSTM)                (None, 100)               80400     \n",
      "_________________________________________________________________\n",
      "dropout_1 (Dropout)          (None, 100)               0         \n",
      "_________________________________________________________________\n",
      "batch_normalization_2 (Batch (None, 100)               400       \n",
      "_________________________________________________________________\n",
      "dense_4 (Dense)              (None, 256)               25856     \n",
      "_________________________________________________________________\n",
      "dense_5 (Dense)              (None, 5)                 1285      \n",
      "=================================================================\n",
      "Total params: 933,341\n",
      "Trainable params: 188,141\n",
      "Non-trainable params: 745,200\n",
      "_________________________________________________________________\n"
     ]
    }
   ],
   "source": [
    "answer_inp = Input(shape=(windows_size, ))\n",
    "embedding_size_glove = 100\n",
    "answer_emb1 = Embedding(vocab_size_stop+1, embedding_size_glove, weights=[embedding_matrix_lp], input_length=windows_size, trainable=False)(answer_inp)\n",
    "\n",
    "\n",
    "lstm1 = LSTM(embedding_size_glove, return_sequences=True, dropout=0.2, recurrent_dropout=0.2)(answer_emb1)\n",
    "lstm2 = LSTM(embedding_size_glove, dropout=0.2, recurrent_dropout=0.2)(lstm1)\n",
    "\n",
    "X = Dropout(0.2)(lstm2)\n",
    "bt = BatchNormalization()(X)\n",
    "dense1 = Dense(units=256, activation=\"relu\")(bt)\n",
    "\n",
    "out = Dense(5,  activation='softmax')(dense1)\n",
    "\n",
    "model_2lstm = Model(inputs=[answer_inp], outputs=[out])\n",
    "model_2lstm.compile(optimizer=\"adam\", loss='categorical_crossentropy', metrics=['accuracy'])\n",
    "model_2lstm.summary()"
   ]
  },
  {
   "cell_type": "code",
   "execution_count": 87,
   "metadata": {},
   "outputs": [
    {
     "name": "stdout",
     "output_type": "stream",
     "text": [
      "Train on 64524 samples, validate on 12915 samples\n",
      "Epoch 1/30\n",
      "64524/64524 [==============================] - 59s 907us/step - loss: 1.1381 - accuracy: 0.5400 - val_loss: 0.9767 - val_accuracy: 0.6329\n",
      "Epoch 2/30\n",
      "64524/64524 [==============================] - 48s 739us/step - loss: 1.1042 - accuracy: 0.5569 - val_loss: 0.9359 - val_accuracy: 0.6544\n",
      "Epoch 3/30\n",
      "64524/64524 [==============================] - 46s 719us/step - loss: 1.0730 - accuracy: 0.5731 - val_loss: 0.9033 - val_accuracy: 0.6709\n",
      "Epoch 4/30\n",
      "64524/64524 [==============================] - 48s 747us/step - loss: 1.0508 - accuracy: 0.5797 - val_loss: 0.8731 - val_accuracy: 0.6791\n",
      "Epoch 5/30\n",
      "64524/64524 [==============================] - 57s 882us/step - loss: 1.0215 - accuracy: 0.5957 - val_loss: 0.8242 - val_accuracy: 0.7057\n",
      "Epoch 6/30\n",
      "64524/64524 [==============================] - 74s 1ms/step - loss: 1.0029 - accuracy: 0.6044 - val_loss: 0.7936 - val_accuracy: 0.7170\n",
      "Epoch 7/30\n",
      "64524/64524 [==============================] - 49s 754us/step - loss: 0.9838 - accuracy: 0.6157 - val_loss: 0.7630 - val_accuracy: 0.7358\n",
      "Epoch 8/30\n",
      "64524/64524 [==============================] - 55s 856us/step - loss: 0.9640 - accuracy: 0.6218 - val_loss: 0.7508 - val_accuracy: 0.7348\n",
      "Epoch 9/30\n",
      "64524/64524 [==============================] - 49s 752us/step - loss: 0.9472 - accuracy: 0.6279 - val_loss: 0.7141 - val_accuracy: 0.7497\n",
      "Epoch 10/30\n",
      "64524/64524 [==============================] - 60s 935us/step - loss: 0.9342 - accuracy: 0.6356 - val_loss: 0.7075 - val_accuracy: 0.7510\n",
      "Epoch 11/30\n",
      "64524/64524 [==============================] - 48s 748us/step - loss: 0.9213 - accuracy: 0.6406 - val_loss: 0.6954 - val_accuracy: 0.7582\n",
      "Epoch 12/30\n",
      "64524/64524 [==============================] - 48s 747us/step - loss: 0.9067 - accuracy: 0.6462 - val_loss: 0.6747 - val_accuracy: 0.7559\n",
      "Epoch 13/30\n",
      "64524/64524 [==============================] - 46s 720us/step - loss: 0.8906 - accuracy: 0.6520 - val_loss: 0.6442 - val_accuracy: 0.7809\n",
      "Epoch 14/30\n",
      "64524/64524 [==============================] - 49s 766us/step - loss: 0.8844 - accuracy: 0.6564 - val_loss: 0.6365 - val_accuracy: 0.7840\n",
      "Epoch 15/30\n",
      "64524/64524 [==============================] - 55s 860us/step - loss: 0.8755 - accuracy: 0.6627 - val_loss: 0.6075 - val_accuracy: 0.7978\n",
      "Epoch 16/30\n",
      "64524/64524 [==============================] - 45s 702us/step - loss: 0.8611 - accuracy: 0.6681 - val_loss: 0.6059 - val_accuracy: 0.7908\n",
      "Epoch 17/30\n",
      "64524/64524 [==============================] - 56s 868us/step - loss: 0.8564 - accuracy: 0.6709 - val_loss: 0.5865 - val_accuracy: 0.8024\n",
      "Epoch 18/30\n",
      "64524/64524 [==============================] - 52s 811us/step - loss: 0.8476 - accuracy: 0.6756 - val_loss: 0.5800 - val_accuracy: 0.8022\n",
      "Epoch 19/30\n",
      "64524/64524 [==============================] - 43s 674us/step - loss: 0.8369 - accuracy: 0.6798 - val_loss: 0.5643 - val_accuracy: 0.8109\n",
      "Epoch 20/30\n",
      "64524/64524 [==============================] - 42s 644us/step - loss: 0.8294 - accuracy: 0.6808 - val_loss: 0.5575 - val_accuracy: 0.8180\n",
      "Epoch 21/30\n",
      "64524/64524 [==============================] - 42s 653us/step - loss: 0.8173 - accuracy: 0.6873 - val_loss: 0.5443 - val_accuracy: 0.8210\n",
      "Epoch 22/30\n",
      "64524/64524 [==============================] - 43s 665us/step - loss: 0.8129 - accuracy: 0.6901 - val_loss: 0.5235 - val_accuracy: 0.8331\n",
      "Epoch 23/30\n",
      "64524/64524 [==============================] - 54s 842us/step - loss: 0.8076 - accuracy: 0.6924 - val_loss: 0.5192 - val_accuracy: 0.8315\n",
      "Epoch 24/30\n",
      "64524/64524 [==============================] - 46s 705us/step - loss: 0.8055 - accuracy: 0.6932 - val_loss: 0.5103 - val_accuracy: 0.8362\n",
      "Epoch 25/30\n",
      "64524/64524 [==============================] - 49s 759us/step - loss: 0.7969 - accuracy: 0.6982 - val_loss: 0.4953 - val_accuracy: 0.8449\n",
      "Epoch 26/30\n",
      "64524/64524 [==============================] - 48s 749us/step - loss: 0.7852 - accuracy: 0.7000 - val_loss: 0.4848 - val_accuracy: 0.8472\n",
      "Epoch 27/30\n",
      "64524/64524 [==============================] - 44s 683us/step - loss: 0.7775 - accuracy: 0.7057 - val_loss: 0.4702 - val_accuracy: 0.8523\n",
      "Epoch 28/30\n",
      "64524/64524 [==============================] - 46s 714us/step - loss: 0.7751 - accuracy: 0.7058 - val_loss: 0.4692 - val_accuracy: 0.8546\n",
      "Epoch 29/30\n",
      "64524/64524 [==============================] - 74s 1ms/step - loss: 0.7705 - accuracy: 0.7055 - val_loss: 0.4632 - val_accuracy: 0.8530\n",
      "Epoch 30/30\n",
      "64524/64524 [==============================] - 71s 1ms/step - loss: 0.7607 - accuracy: 0.7122 - val_loss: 0.4591 - val_accuracy: 0.8588\n"
     ]
    }
   ],
   "source": [
    "model_glove_2lstm_b_hist = model_2lstm.fit(train_a_b, train_y_b, validation_data=(dev_a_b, dev_y_b), epochs=30, batch_size=64, shuffle=True, callbacks=[early_stopping])"
   ]
  },
  {
   "cell_type": "code",
   "execution_count": 88,
   "metadata": {},
   "outputs": [
    {
     "data": {
      "image/png": "[encoded data removed]",
      "text/plain": [
       "<Figure size 432x288 with 1 Axes>"
      ]
     },
     "metadata": {
      "needs_background": "light"
     },
     "output_type": "display_data"
    },
    {
     "data": {
      "image/png": "[encoded data removed]",
      "text/plain": [
       "<Figure size 432x288 with 1 Axes>"
      ]
     },
     "metadata": {
      "needs_background": "light"
     },
     "output_type": "display_data"
    }
   ],
   "source": [
    "plot_loss(model_glove_2lstm_b_hist)\n",
    "plot_acc(model_glove_2lstm_b_hist)"
   ]
  },
  {
   "cell_type": "code",
   "execution_count": 89,
   "metadata": {},
   "outputs": [
    {
     "name": "stdout",
     "output_type": "stream",
     "text": [
      "Test loss: 0.4632120128764243\n",
      "Test accuracy: 0.8518090844154358\n"
     ]
    }
   ],
   "source": [
    "score = model_2lstm.evaluate(test_a_b, test_y_b, verbose=0)\n",
    "print('Test loss:', score[0])\n",
    "print('Test accuracy:', score[1])"
   ]
  },
  {
   "cell_type": "code",
   "execution_count": 90,
   "metadata": {},
   "outputs": [],
   "source": [
    "df_confusion = confusion_matrix(model_2lstm, test_a_b, test_y_b)"
   ]
  },
  {
   "cell_type": "code",
   "execution_count": 91,
   "metadata": {},
   "outputs": [
    {
     "data": {
      "text/html": [
       "<div>\n",
       "<style scoped>\n",
       "    .dataframe tbody tr th:only-of-type {\n",
       "        vertical-align: middle;\n",
       "    }\n",
       "\n",
       "    .dataframe tbody tr th {\n",
       "        vertical-align: top;\n",
       "    }\n",
       "\n",
       "    .dataframe thead th {\n",
       "        text-align: right;\n",
       "    }\n",
       "</style>\n",
       "<table border=\"1\" class=\"dataframe\">\n",
       "  <thead>\n",
       "    <tr style=\"text-align: right;\">\n",
       "      <th>col_0</th>\n",
       "      <th>none</th>\n",
       "      <th>mild</th>\n",
       "      <th>moderate</th>\n",
       "      <th>moderately severe</th>\n",
       "      <th>severe</th>\n",
       "    </tr>\n",
       "    <tr>\n",
       "      <th>row_0</th>\n",
       "      <th></th>\n",
       "      <th></th>\n",
       "      <th></th>\n",
       "      <th></th>\n",
       "      <th></th>\n",
       "    </tr>\n",
       "  </thead>\n",
       "  <tbody>\n",
       "    <tr>\n",
       "      <th>none</th>\n",
       "      <td>3221</td>\n",
       "      <td>81</td>\n",
       "      <td>99</td>\n",
       "      <td>86</td>\n",
       "      <td>63</td>\n",
       "    </tr>\n",
       "    <tr>\n",
       "      <th>mild</th>\n",
       "      <td>217</td>\n",
       "      <td>2570</td>\n",
       "      <td>64</td>\n",
       "      <td>50</td>\n",
       "      <td>64</td>\n",
       "    </tr>\n",
       "    <tr>\n",
       "      <th>moderate</th>\n",
       "      <td>244</td>\n",
       "      <td>130</td>\n",
       "      <td>2414</td>\n",
       "      <td>93</td>\n",
       "      <td>134</td>\n",
       "    </tr>\n",
       "    <tr>\n",
       "      <th>moderately severe</th>\n",
       "      <td>195</td>\n",
       "      <td>119</td>\n",
       "      <td>91</td>\n",
       "      <td>2293</td>\n",
       "      <td>117</td>\n",
       "    </tr>\n",
       "    <tr>\n",
       "      <th>severe</th>\n",
       "      <td>146</td>\n",
       "      <td>62</td>\n",
       "      <td>61</td>\n",
       "      <td>67</td>\n",
       "      <td>2050</td>\n",
       "    </tr>\n",
       "  </tbody>\n",
       "</table>\n",
       "</div>"
      ],
      "text/plain": [
       "col_0              none  mild  moderate  moderately severe  severe\n",
       "row_0                                                             \n",
       "none               3221    81        99                 86      63\n",
       "mild                217  2570        64                 50      64\n",
       "moderate            244   130      2414                 93     134\n",
       "moderately severe   195   119        91               2293     117\n",
       "severe              146    62        61                 67    2050"
      ]
     },
     "execution_count": 91,
     "metadata": {},
     "output_type": "execute_result"
    }
   ],
   "source": [
    "df_confusion"
   ]
  },
  {
   "cell_type": "code",
   "execution_count": 93,
   "metadata": {},
   "outputs": [
    {
     "name": "stdout",
     "output_type": "stream",
     "text": [
      "File got created\n"
     ]
    }
   ],
   "source": [
    "model.save('/media/prahlad/New Volume/DIAC-WOZ/model_glove_2lstm_b.h5')\n",
    "json_dict = model_glove_2lstm_b_hist.history\n",
    "with open('/media/prahlad/New Volume/DIAC-WOZ/model_glove_2lstm_b_hist.json', 'w') as f:\n",
    "    f.write(str(json_dict))\n",
    "print('File got created')  "
   ]
  },
  {
   "cell_type": "code",
   "execution_count": 94,
   "metadata": {},
   "outputs": [
    {
     "name": "stdout",
     "output_type": "stream",
     "text": [
      "All is going right with the party, I'm happy to know new people\n",
      "severe\n",
      "I want an ice cream and have some fries for lunch\n",
      "none\n",
      "I'm afraid of losing my work, I don't have any money\n",
      "none\n",
      "I'm worried about my future, I'm afraid of it\n",
      "severe\n",
      "My father loves me\n",
      "none\n"
     ]
    }
   ],
   "source": [
    "sen = \"All is going right with the party, I'm happy to know new people\"\n",
    "test_model(sen, model_2lstm)\n",
    "sen = \"I want an ice cream and have some fries for lunch\"\n",
    "test_model(sen, model_2lstm)\n",
    "sen = \"I'm afraid of losing my work, I don't have any money\"\n",
    "test_model(sen, model_2lstm)\n",
    "sen = \"I'm worried about my future, I'm afraid of it\"\n",
    "test_model(sen, model_2lstm)\n",
    "sen = \"My father loves me\"\n",
    "test_model(sen, model_2lstm)"
   ]
  },
  {
   "cell_type": "code",
   "execution_count": 1,
   "metadata": {},
   "outputs": [
    {
     "ename": "NameError",
     "evalue": "name 'test_model' is not defined",
     "output_type": "error",
     "traceback": [
      "\u001b[0;31m---------------------------------------------------------------------------\u001b[0m",
      "\u001b[0;31mNameError\u001b[0m                                 Traceback (most recent call last)",
      "\u001b[0;32m<ipython-input-1-b7d5894732d6>\u001b[0m in \u001b[0;36m<module>\u001b[0;34m\u001b[0m\n\u001b[1;32m      1\u001b[0m \u001b[0msen\u001b[0m \u001b[0;34m=\u001b[0m \u001b[0;34m\"Please kill me\"\u001b[0m\u001b[0;34m\u001b[0m\u001b[0;34m\u001b[0m\u001b[0m\n\u001b[0;32m----> 2\u001b[0;31m \u001b[0mtest_model\u001b[0m\u001b[0;34m(\u001b[0m\u001b[0msen\u001b[0m\u001b[0;34m,\u001b[0m \u001b[0mmodel_2lstm\u001b[0m\u001b[0;34m)\u001b[0m\u001b[0;34m\u001b[0m\u001b[0;34m\u001b[0m\u001b[0m\n\u001b[0m",
      "\u001b[0;31mNameError\u001b[0m: name 'test_model' is not defined"
     ]
    }
   ],
   "source": [
    "sen = \"Please kill me\"\n",
    "test_model(sen, model_2lstm)"
   ]
  },
  {
   "cell_type": "code",
   "execution_count": null,
   "metadata": {},
   "outputs": [],
   "source": []
  },
  {
   "cell_type": "code",
   "execution_count": null,
   "metadata": {},
   "outputs": [],
   "source": []
  },
  {
   "cell_type": "code",
   "execution_count": null,
   "metadata": {},
   "outputs": [],
   "source": []
  },
  {
   "cell_type": "code",
   "execution_count": null,
   "metadata": {},
   "outputs": [],
   "source": []
  }
 ],
 "metadata": {
  "kernelspec": {
   "display_name": "Python 3",
   "language": "python",
   "name": "python3"
  },
  "language_info": {
   "codemirror_mode": {
    "name": "ipython",
    "version": 3
   },
   "file_extension": ".py",
   "mimetype": "text/x-python",
   "name": "python",
   "nbconvert_exporter": "python",
   "pygments_lexer": "ipython3",
   "version": "3.7.4"
  }
 },
 "nbformat": 4,
 "nbformat_minor": 2
}
